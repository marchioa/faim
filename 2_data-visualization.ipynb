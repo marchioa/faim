{
 "cells": [
  {
   "cell_type": "markdown",
   "metadata": {
    "tags": [],
    "toc-hr-collapsed": false
   },
   "source": [
    "# Data Visualization in Python"
   ]
  },
  {
   "cell_type": "markdown",
   "metadata": {},
   "source": [
    "Inpired by:\n",
    "- [Coursera](https://www.coursera.org/) course on [Data Visualization with Python](https://www.coursera.org/learn/python-for-data-visualization).\n",
    "- [Matplotlib Tutorial](https://matplotlib.org/tutorials/introductory/pyplot.html)\n",
    "- [Seaborn Tutorial](https://seaborn.pydata.org/tutorial.html)\n",
    "- [Folium Quickstart](https://python-visualization.github.io/folium/quickstart.html)"
   ]
  },
  {
   "cell_type": "markdown",
   "metadata": {},
   "source": [
    "Data visualization is a way to show a complex data in a form that is graphical and easy to understand.\n",
    "\n",
    "A picture is worth a thousand words, then plots and graphs can be very effective in conveying a clear description of the data especially when disclosing findings to an audience.\n",
    "\n",
    "Using [Darkhorse Analytics](https://www.darkhorseanalytics.com/)' words: **less** is more **effective**, **attractive**, and **impactive**. Any feature or design you incorporate in your plot to make it more attractive or pleasing should support the message that the plot is meant to get across and not distract from it."
   ]
  },
  {
   "cell_type": "markdown",
   "metadata": {
    "toc-hr-collapsed": true,
    "toc-nb-collapsed": true
   },
   "source": [
    "## Matplotlib"
   ]
  },
  {
   "cell_type": "markdown",
   "metadata": {},
   "source": [
    "[Matplotlib](https://matplotlib.org/) is probably the most popular data visualization library in Python. It was initially created to replicate the Matlab plots in a Python environment and now it is a standard (here a bit of history http://aosabook.org/en/matplotlib.html).\n",
    "\n",
    "It is composed by three main layers:\n",
    "- **Back-end** layer: comprise the main building blocks of a figure.\n",
    "- **Artist** layer: the appropriate programming paradigm when writing a web application server, or a UI application, or perhaps a script to be shared with other developers\n",
    "- **Script** layer: for everyday purposes and is considered a lighter scripting interface to simplify common tasks and for a quick and easy generation of graphics and plots\n",
    "\n",
    "Let's focus for now on the on the script layer that essentially consists in the **pyplot** sub-package."
   ]
  },
  {
   "cell_type": "code",
   "execution_count": null,
   "metadata": {
    "tags": []
   },
   "outputs": [],
   "source": [
    "import matplotlib.pyplot as plt # import pyplot\n",
    "import numpy as np              # without numpy we're not going anywhere"
   ]
  },
  {
   "cell_type": "markdown",
   "metadata": {},
   "source": [
    "### First Line plot"
   ]
  },
  {
   "cell_type": "markdown",
   "metadata": {},
   "source": [
    "Let's start with is the most basic type of chart: **Line Plots**. It displays information as series of data points colled *markers* connected by straight line segments.\n",
    "\n",
    "**When to use it?**\n",
    "When you have a quantity (y-axis) that depends on a numeric variable (x-axis) and you want to show a trend, that is how the observed quantity dependes on the indipendent variable. The most common indipendent variable is of course time."
   ]
  },
  {
   "cell_type": "markdown",
   "metadata": {},
   "source": [
    "To create a line plot we need to:\n",
    "- create a figure with [`figure()`](https://matplotlib.org/3.1.1/api/_as_gen/matplotlib.pyplot.figure.html)\n",
    "- plot the line in the figure by means of the method [`plot()`](https://matplotlib.org/3.1.1/api/_as_gen/matplotlib.pyplot.plot.html)\n"
   ]
  },
  {
   "cell_type": "code",
   "execution_count": null,
   "metadata": {
    "tags": []
   },
   "outputs": [],
   "source": [
    "# define our indipendent variable time t\n",
    "t = np.arange(10)  # build an array whose elements are 0, 1, ..., 9\n",
    "x = t**2           # observed quantity\n",
    "\n",
    "# create a figure using pyplot\n",
    "plt.figure()\n",
    "# plot x depending on t\n",
    "plt.plot(t, x);"
   ]
  },
  {
   "cell_type": "markdown",
   "metadata": {},
   "source": [
    "### Plot personalization"
   ]
  },
  {
   "cell_type": "markdown",
   "metadata": {},
   "source": [
    "You can personilize the line plot, for example, by changing  the color, the linestyle, the linewidth, the markers' color, shape, size and so on (have a look to the documentation for [`matplotlib.lines.Line2D`](https://matplotlib.org/3.1.3/api/_as_gen/matplotlib.lines.Line2D.html) objects).\n",
    "\n",
    "You can also change figure properties such as its size and background color as well as you can add component such as labels for the axes, a title, a legend, the grid or just text."
   ]
  },
  {
   "cell_type": "code",
   "execution_count": null,
   "metadata": {
    "tags": []
   },
   "outputs": [],
   "source": [
    "# create figure with custom size\n",
    "plt.figure(figsize=(10, 4))\n",
    "\n",
    "# plotting the same line butchanging some of the default properties\n",
    "plt.plot(t, x, \n",
    "         color='r', linestyle='-.', linewidth=2, \n",
    "         marker='o', markersize=6, markerfacecolor='b')\n",
    "\n",
    "# adding components to the axes\n",
    "plt.xlabel('$t$ [s]')               # x-axis label, it supports Latex syntax!!\n",
    "plt.ylabel('$x$')                   # y-axis label\n",
    "plt.title('the title')              # title\n",
    "plt.text(0, 60, 'some random text') # text needs the coordinates\n",
    "plt.grid()                          # grid\n",
    "plt.legend(['$x(t) = t^2$']);       # legend, it supports latex as well"
   ]
  },
  {
   "cell_type": "markdown",
   "metadata": {},
   "source": [
    "### Multiple plots"
   ]
  },
  {
   "cell_type": "markdown",
   "metadata": {},
   "source": [
    "Of course, you can add more plots in the same figure."
   ]
  },
  {
   "cell_type": "code",
   "execution_count": null,
   "metadata": {
    "tags": []
   },
   "outputs": [],
   "source": [
    "# define quantities to plot\n",
    "t = np.arange(20)\n",
    "x = t**2\n",
    "y = 1 + 0.5*t**2\n",
    "z = 0.5*(1 + np.sin(np.pi*t/4))*t**2\n",
    "\n",
    "\n",
    "plt.figure(figsize=(10, 4))\n",
    "\n",
    "# to help legend creation a label can be assigned to each plot\n",
    "plt.plot(t, x, linestyle=':', linewidth=2, marker='s',\n",
    "         label='$x(t) = t^2$')\n",
    "# line properties support abbreviation (example: linestyle -> ls)\n",
    "plt.plot(t, y, ls='--', lw=3, marker='o', ms=8, mfc='C0',\n",
    "         label=r'$y(t) = 1+\\frac{1}{2}t^2$')\n",
    "# matplotlib supports MATLAB format string\n",
    "plt.plot(t, z, '-.dg',\n",
    "         label=r'$z(t) = \\frac{1}{2}\\left(1+\\sin(\\frac{\\pi}{4} t)\\right)t^2$')\n",
    "\n",
    "plt.xlabel('$t$ [s]')\n",
    "plt.ylabel('Amplitude')\n",
    "plt.title('multiple plots')\n",
    "plt.grid()\n",
    "plt.legend();"
   ]
  },
  {
   "cell_type": "markdown",
   "metadata": {},
   "source": [
    "The same result can be obtained by jumping down to the Artist layer of matplotlib.\n",
    "\n",
    "The plots above are drawn on an Axes object ([`matplotlib.axes.Axes`](https://matplotlib.org/3.1.3/api/axes_api.html)), which in turn lays on a Figure object ([`matplotlib.figure.Figure`](https://matplotlib.org/3.1.3/api/_as_gen/matplotlib.figure.Figure.html)). Normally, you don't have to worry about this, because it is all taken care of behind the scenes. Yet, sometimes, getting full control on the objects can be useful."
   ]
  },
  {
   "cell_type": "code",
   "execution_count": null,
   "metadata": {
    "tags": []
   },
   "outputs": [],
   "source": [
    "# define quantities to plot\n",
    "t = np.arange(20)\n",
    "x = t**2\n",
    "y = 1 + 0.5*t**2\n",
    "z = 0.5*(1 + np.sin(np.pi*t/4))*t**2\n",
    "\n",
    "# still using pyplot but to get Figure and Axes objects\n",
    "fig, ax = plt.subplots(figsize=(10, 4))\n",
    "\n",
    "# directly plot from the Axes object\n",
    "ax.plot(t, x, lw=2, marker='o', label='$x(t)$')\n",
    "ax.plot(t, y, lw=2, marker='s', label='$y(t)$')\n",
    "ax.plot(t, z, lw=2, marker='d', label='$z(t)$')\n",
    "\n",
    "# directly modify Axes properties\n",
    "ax.set(\n",
    "    title='multiple plots', \n",
    "    xlabel='$t$ [s]', \n",
    "    ylabel='Amplitude', \n",
    "    xticks=t[::2]\n",
    ")\n",
    "ax.grid()\n",
    "ax.legend();"
   ]
  },
  {
   "cell_type": "markdown",
   "metadata": {},
   "source": [
    "### Multiple figures and axes"
   ]
  },
  {
   "cell_type": "markdown",
   "metadata": {},
   "source": [
    "pyplot, similarly to MATLAB, has the concept of the current figure and the current axes. All plotting commands apply to the current axes. \n",
    "\n",
    "The function [`gca()`](https://matplotlib.org/3.1.1/api/_as_gen/matplotlib.pyplot.gca.html) returns the current Axes, and [`gcf()`](https://matplotlib.org/3.1.3/api/_as_gen/matplotlib.pyplot.gcf.html) returns the current Figure. "
   ]
  },
  {
   "cell_type": "markdown",
   "metadata": {},
   "source": [
    "In the same Figure more than one Axes can be created by mean of the [`subplot()` ](https://matplotlib.org/api/_as_gen/matplotlib.pyplot.subplot.html) method. This command specifies the number of rows (`numrows`) and columns (`numcols`) to divide the figures and the plot number that ranges from 1 to `numrows\\*numcols`. The commas in the subplot command are optional if `numrows\\*numcols<10`, so that `subplot(211)` is identical to `subplot(2, 1, 1)`."
   ]
  },
  {
   "cell_type": "code",
   "execution_count": null,
   "metadata": {
    "tags": []
   },
   "outputs": [],
   "source": [
    "t1 = np.arange(0.0, 5.0, 0.1)\n",
    "t2 = np.arange(0.0, 5.0, 0.02)\n",
    "\n",
    "fx = lambda t: np.exp(-t)\n",
    "fy = lambda t: np.cos(2*np.pi*t)\n",
    "\n",
    "# 1st figure\n",
    "plt.figure(figsize=(10,6))\n",
    "\n",
    "# 1st plot in the 1st figure\n",
    "plt.subplot(211) # 2 rows, 1 col, 1st plot\n",
    "plt.plot(t1, fx(t1), 'bd', t2, fx(t2), 'b:')\n",
    "plt.plot(t1, fy(t1), 'r^', t2, fy(t2), 'r--')\n",
    "plt.title('$f_x(t), f_y(t)$')\n",
    "plt.grid()\n",
    "\n",
    "# 2nd plot in the 1st figure\n",
    "plt.subplot(212) # 2 rows, 1 col, 2nd plot\n",
    "plt.plot(t2, fx(t2)*fy(t2), 'g')\n",
    "plt.title('$f_x(t) f_y(t)$')\n",
    "plt.grid()\n",
    "\n",
    "\n",
    "# 2nd figure\n",
    "plt.figure(figsize=(10,6))\n",
    "\n",
    "# 1st plot in the 2nd figure\n",
    "plt.subplot(221) # 2 rows, 2 cols, 1st plot\n",
    "plt.plot(t1, fx(t1), 'bd', t2, fx(t2), 'b:')\n",
    "plt.title('$f_x(t)$')\n",
    "plt.grid()\n",
    "\n",
    "# 2nd plot in the 2nd figure\n",
    "plt.subplot(223) # 2 rows, 2 cols, 3rd plot\n",
    "plt.title('$f_y(t)$')\n",
    "plt.plot(t1, fy(t1), 'r^', t2, fy(t2), 'r--')\n",
    "\n",
    "# 2nd plot in the 2nd figure\n",
    "plt.subplot(122) # 1 row, 2 cols, 2nd plot\n",
    "plt.plot(t2, fy(t2)/fx(t2), 'g')\n",
    "plt.title('$f_x(t) / f_y(t)$')\n",
    "plt.grid()"
   ]
  },
  {
   "cell_type": "markdown",
   "metadata": {},
   "source": [
    "You can create an arbitrary number of subplots and axes. If you want to place an axes manually, i.e., not on a rectangular grid, use the [`axes()`](https://matplotlib.org/api/_as_gen/matplotlib.pyplot.axes.html#matplotlib.pyplot.axes) command, which allows you to specify the location as axes([left, bottom, width, height]) where all values are in fractional (0 to 1) coordinates."
   ]
  },
  {
   "cell_type": "markdown",
   "metadata": {},
   "source": [
    "The same can be done using Axes objects."
   ]
  },
  {
   "cell_type": "code",
   "execution_count": null,
   "metadata": {
    "tags": []
   },
   "outputs": [],
   "source": [
    "# Figure with 2 subplots\n",
    "fig, (ax1, ax2) = plt.subplots(2, 1, figsize=(10,6))\n",
    "\n",
    "ax1.plot(t1, fx(t1), 'bd', t2, fx(t2), 'b:')\n",
    "ax1.plot(t1, fy(t1), 'r^', t2, fy(t2), 'r--')\n",
    "ax1.set(title='$f_x(t), f_y(t)$')\n",
    "ax1.grid()\n",
    "\n",
    "ax2.plot(t2, fx(t2)*fy(t2), 'g')\n",
    "ax2.set(title='$f_x(t) f_y(t)$')\n",
    "ax2.grid()"
   ]
  },
  {
   "cell_type": "markdown",
   "metadata": {},
   "source": [
    "### Bar plot"
   ]
  },
  {
   "cell_type": "markdown",
   "metadata": {},
   "source": [
    "Bar plots are used to present categorical data with rectangular bars with heights (vertical bar plot) or lengths (horizontal bar plot) proportional to the values that they represent. One axis of the chart shows the specific categories being compared, and the other axis represents a measured value.\n",
    "\n",
    "The method to draw bar plots are [bar()](https://matplotlib.org/3.1.1/api/_as_gen/matplotlib.pyplot.bar.html) for vertical bar plot and [barh()](https://matplotlib.org/3.1.1/api/_as_gen/matplotlib.pyplot.barh.html) for the horizontal version."
   ]
  },
  {
   "cell_type": "code",
   "execution_count": null,
   "metadata": {
    "tags": []
   },
   "outputs": [],
   "source": [
    "names = ['apple', 'pear', 'banana', 'kiwi']\n",
    "values = [10, 12, 8, 4]\n",
    "\n",
    "plt.figure(figsize=(10, 4))\n",
    "\n",
    "plt.subplot(121)\n",
    "plt.bar(names, values)\n",
    "plt.xlabel('category')\n",
    "plt.xlabel('value')\n",
    "\n",
    "plt.subplot(122)\n",
    "plt.barh(names, values)\n",
    "plt.xlabel('value')\n",
    "plt.xlabel('category')"
   ]
  },
  {
   "cell_type": "markdown",
   "metadata": {},
   "source": [
    "A useful extension of the bar plot is the **stacked bar plot** that can add a second category in the same plot."
   ]
  },
  {
   "cell_type": "code",
   "execution_count": null,
   "metadata": {
    "tags": []
   },
   "outputs": [],
   "source": [
    "names = ['alpha', 'bravo', 'charlie', 'delta']\n",
    "apple = [10, 8, 4, 8]\n",
    "pear = [12, 6, 16, 2]\n",
    "banana = [8, 10, 16, 4]\n",
    "kiwi = [4, 2, 8, 12]\n",
    "\n",
    "\n",
    "plt.figure(figsize=(10, 4))\n",
    "\n",
    "plt.barh(names, apple, label='apple')\n",
    "plt.barh(names, pear, left=apple, label='pear')\n",
    "plt.barh(names, banana, left=pear, label='banana')\n",
    "plt.barh(names, kiwi, left=banana, label='kiwi')\n",
    "plt.xlabel('fruit')\n",
    "plt.ylabel('people')\n",
    "plt.legend();"
   ]
  },
  {
   "cell_type": "markdown",
   "metadata": {},
   "source": [
    "### Scatter plot"
   ]
  },
  {
   "cell_type": "markdown",
   "metadata": {},
   "source": [
    "A **scatter plot** uses dots to represent data point whose coordinates refer to two different numeric variables. Often a third numerical variable can be displayed by varying the size of each dot, and a fourth categorical variable can affect the dot color.\n",
    "\n",
    "**When to use it?** When we want to observe relationships between variables. While line plots are useful when the relationship between variables is deterministic and can be described as a function, scatter plots are often used when the data point represents samples of a population."
   ]
  },
  {
   "cell_type": "code",
   "execution_count": null,
   "metadata": {
    "tags": []
   },
   "outputs": [],
   "source": [
    "from numpy import random\n",
    "\n",
    "# create first population\n",
    "n1 = 100\n",
    "x1 = random.rand(n1)\n",
    "y1 = (1+np.cos(2*np.pi*x1))/2 + 0.1*random.randn(n1)\n",
    "s1 = (50*np.abs(np.cos(2*np.pi*x1))).astype(int)\n",
    "\n",
    "# create second population\n",
    "n2 = 50\n",
    "x2 = random.rand(n2)\n",
    "y2 = 1-x2 + 0.1*random.randn(n2)\n",
    "s2 = (50*np.abs(np.sin(2*np.pi*x2))).astype(int)\n",
    "\n",
    "# create third population\n",
    "n3 = 75\n",
    "x3 = random.rand(n3)\n",
    "y3 = x3**2 + 0.1*random.randn(n3)\n",
    "s3 = (50*(1-x3)).astype(int)\n",
    "\n",
    "plt.figure(figsize=(10,5))\n",
    "plt.scatter(x1, y1, s=s1, label='first')\n",
    "plt.scatter(x2, y2, s=s2, label='second')\n",
    "plt.scatter(x3, y3, s=s3, label='third')\n",
    "plt.xlabel('x')\n",
    "plt.ylabel('y')\n",
    "plt.legend()\n",
    "plt.grid()"
   ]
  },
  {
   "cell_type": "markdown",
   "metadata": {},
   "source": [
    "### Histogram"
   ]
  },
  {
   "cell_type": "markdown",
   "metadata": {},
   "source": [
    "A **histogram** is a way of representing the frequency distribution of a numeric dataset. The range of the numeric data is partinioned into **bins**, and then each datapoint in the dataset is assigned to a bin. The bins are on the x-axis, while on the y-axis you have the the frequency or the number of datapoints in each bin.\n",
    "\n",
    "The method to display a histogram is [`hist`](https://matplotlib.org/3.1.3/api/_as_gen/matplotlib.pyplot.hist.html)."
   ]
  },
  {
   "cell_type": "code",
   "execution_count": null,
   "metadata": {
    "tags": []
   },
   "outputs": [],
   "source": [
    "x = random.randn(10000)\n",
    "\n",
    "plt.figure(figsize=(10, 4))\n",
    "\n",
    "plt.subplot(121)\n",
    "# just specify the number of bins\n",
    "plt.hist(x, bins=50, label='normal')\n",
    "plt.title('histogram')\n",
    "plt.xlabel('x')\n",
    "plt.grid()\n",
    "\n",
    "plt.subplot(122)\n",
    "# specify the values of the bin edges and display pdf\n",
    "bin_edges = np.linspace(min(x), max(x), 40)\n",
    "plt.hist(x, bins=bin_edges, label='normal', density=True)\n",
    "plt.title('probability density function (pdf)')\n",
    "plt.xlabel('x')\n",
    "plt.grid()"
   ]
  },
  {
   "cell_type": "markdown",
   "metadata": {
    "toc-hr-collapsed": true,
    "toc-nb-collapsed": true
   },
   "source": [
    "## DataSet"
   ]
  },
  {
   "cell_type": "markdown",
   "metadata": {},
   "source": [
    "Let's consider a real dataset to visualize more meaningful information. We consider the [Ergast](http://ergast.com/mrd/) database that is also available as [Formula 1 Race Data](https://www.kaggle.com/cjgdev/formula-1-race-data-19502017) on [Kaggle](https://www.kaggle.com/) which is an online community of data scientists and machine learning practitioners.\n",
    "\n",
    "This dataset contains data from 1950 all the way through the current season, and consists of tables describing constructors, race drivers, lap times, pit stops and more."
   ]
  },
  {
   "cell_type": "markdown",
   "metadata": {},
   "source": [
    "Here the list of tables composing the dataset:\n",
    "- **circuits**: list of every formula 1 circuit, including name, location and geographic data;\n",
    "- **constructor_results**: details of the results for every race, including race, constructor, and awarded points;\n",
    "- **constructor_standings**: \n",
    "- **constructors**: list of every constructor team including name and nationality;\n",
    "- **driver_standings**:\n",
    "- **drivers**: list of every Formula 1 driver, including full name, dob, and nationality;\n",
    "- **lap_times**: details the lap times for every race, including driver, lap number, position and time;\n",
    "- **pit_stops**: details of every pitstop in Formula 1, including the time of the pit stop, the duration, the race and driver;\n",
    "- **qualifying**: the results of every qualifying session, including the race, driver, constructor, position, and times for Q1, Q2 and Q3;\n",
    "- **races**: details of every race, including year, date, time, circuit and round;\n",
    "- **results**: details of the results for every race.\n",
    "- **seasons**: list of every season and corresponding Wikipedia link;\n",
    "- **status**: table of status codes and their status."
   ]
  },
  {
   "cell_type": "code",
   "execution_count": null,
   "metadata": {
    "tags": []
   },
   "outputs": [],
   "source": [
    "import pandas as pd\n",
    "import os"
   ]
  },
  {
   "cell_type": "code",
   "execution_count": null,
   "metadata": {
    "tags": []
   },
   "outputs": [],
   "source": [
    "# local folder where data is stored\n",
    "data_folder = os.path.join('data', 'f1db_csv')"
   ]
  },
  {
   "cell_type": "code",
   "execution_count": null,
   "metadata": {
    "tags": []
   },
   "outputs": [],
   "source": [
    "# loading data related to races\n",
    "races = pd.read_csv(\n",
    "    os.path.join(data_folder, 'races.csv'), \n",
    "    usecols=['raceId', 'year', 'circuitId', 'name', 'date', 'time'],\n",
    "    index_col='raceId',\n",
    "    parse_dates=['date'],\n",
    ")\n",
    "\n",
    "races.info()\n",
    "races.head()"
   ]
  },
  {
   "cell_type": "code",
   "execution_count": null,
   "metadata": {
    "tags": []
   },
   "outputs": [],
   "source": [
    "# loading data related to circuits\n",
    "circuits = pd.read_csv(\n",
    "    os.path.join(data_folder, 'circuits.csv'), \n",
    "    encoding='latin1',\n",
    "    usecols=['circuitId', 'circuitRef', 'name', 'location', 'country', 'lat', 'lng'],\n",
    "    index_col='circuitId',\n",
    ")\n",
    "\n",
    "circuits.info()\n",
    "circuits.head()"
   ]
  },
  {
   "cell_type": "code",
   "execution_count": null,
   "metadata": {
    "tags": []
   },
   "outputs": [],
   "source": [
    "# loading data related to drivers\n",
    "drivers = pd.read_csv(\n",
    "    os.path.join(data_folder, 'drivers.csv'), \n",
    "    encoding='latin1', \n",
    "    usecols=['driverId', 'code', 'forename', 'surname', 'dob', 'nationality'],\n",
    "    index_col='driverId',\n",
    "    parse_dates=['dob'],\n",
    ")\n",
    "\n",
    "drivers.info()\n",
    "drivers.head()"
   ]
  },
  {
   "cell_type": "code",
   "execution_count": null,
   "metadata": {
    "tags": []
   },
   "outputs": [],
   "source": [
    "dstand = pd.read_csv(\n",
    "    os.path.join(data_folder, 'driver_standings.csv'), \n",
    "    index_col='driverStandingsId'\n",
    ")\n",
    "\n",
    "dstand.info()\n",
    "dstand.head()"
   ]
  },
  {
   "cell_type": "markdown",
   "metadata": {
    "toc-hr-collapsed": true
   },
   "source": [
    "### Drivers Standing"
   ]
  },
  {
   "cell_type": "markdown",
   "metadata": {},
   "source": [
    "The `driver_standings` table contains the driver standing after every race since 1950."
   ]
  },
  {
   "cell_type": "code",
   "execution_count": null,
   "metadata": {
    "tags": []
   },
   "outputs": [],
   "source": [
    "# consider only one season\n",
    "year = 2021\n",
    "\n",
    "# manipulate the data to get a dataframe with races as index, drivers as\n",
    "# columns and points in each cell.\n",
    "ydstand = dstand[dstand['raceId'].replace(races['year']) == year]\\\n",
    "            .set_index(['raceId'])\\\n",
    "            .groupby('driverId')\\\n",
    "            .apply(lambda x: x['points'], include_groups=False)\\\n",
    "            .unstack(level='driverId', fill_value=0.)\\\n",
    "            .rename(index=races['circuitId'].replace(circuits['country']), \n",
    "                    columns=drivers['code'])\\\n",
    "            .rename_axis(index='race', columns='driver')\\\n",
    "            .astype(int)\n",
    "ydstand = ydstand.sort_values(ydstand.columns.tolist())\n",
    "ydstand.head(10)"
   ]
  },
  {
   "cell_type": "markdown",
   "metadata": {},
   "source": [
    "Most of methods that are available in matplotlib can be directly calles as DataFrame methods. This is valid for `plot()`, `bar()`,`scatter()`, `hist()` and so on. The input parameters are the same with subtle changes. "
   ]
  },
  {
   "cell_type": "code",
   "execution_count": null,
   "metadata": {
    "tags": []
   },
   "outputs": [],
   "source": [
    "# select the final driver standing by choosing the last row\n",
    "final_ydstand = ydstand.iloc[-1].sort_values()\n",
    "\n",
    "plt.figure(figsize=(12,6))\n",
    "plt.barh(final_ydstand.index, final_ydstand.values)\n",
    "plt.title('F1 {} - driver final standing'.format(year))\n",
    "plt.xlabel('points')\n",
    "plt.ylabel('driver')\n",
    "plt.grid()"
   ]
  },
  {
   "cell_type": "markdown",
   "metadata": {},
   "source": [
    "Why not to use the whole dataframe to display how drivers gained those points? Here the stacked parameter comes into play."
   ]
  },
  {
   "cell_type": "code",
   "execution_count": null,
   "metadata": {
    "tags": []
   },
   "outputs": [],
   "source": [
    "# create a dataframe that contains the points gained in each race\n",
    "# instead of the current standing. To do that the `diff()` method can help\n",
    "# for computing the difference between a row and the previous one\n",
    "race_points = pd.concat([ydstand.iloc[[0]], ydstand.diff()[1:]])\n",
    "\n",
    "# plot a bar graph directly from the dataframe with the `plot()` method\n",
    "ax = race_points.T.reindex(final_ydstand.index).plot(\n",
    "    kind='barh', stacked=True, \n",
    "    figsize=(12,6),\n",
    "    title='F1 {} - drivers final standing'.format(year),\n",
    ")\n",
    "ax.set(xlabel='points', ylabel='driver',)\n",
    "ax.legend(ncol=3, loc='lower right') # manually arrange the legeng\n",
    "ax.grid()"
   ]
  },
  {
   "cell_type": "markdown",
   "metadata": {},
   "source": [
    "We can also display how the standing of the top drivers evolved during the season  with a line plot."
   ]
  },
  {
   "cell_type": "code",
   "execution_count": null,
   "metadata": {
    "tags": []
   },
   "outputs": [],
   "source": [
    "ndrivers = 6 # number of driver to display\n",
    "\n",
    "# select the top drivers from the final standing\n",
    "top_drivers = list(final_ydstand.sort_values(ascending=False)[:ndrivers].index)\n",
    "\n",
    "# plot the top_driver standing\n",
    "ax = ydstand[top_drivers].plot(\n",
    "    kind='line', \n",
    "    figsize=(12, 5), \n",
    "    marker='s',                   \n",
    "    grid=True, \n",
    "    rot=90\n",
    ")\n",
    "\n",
    "# need to manually insert the name of the races in the x-axis\n",
    "ax.set(\n",
    "    title='F1 {} - drivers standing'.format(year), \n",
    "    ylabel='points',\n",
    "    xticks=range(len(ydstand)), \n",
    "    xticklabels=ydstand.index\n",
    ");"
   ]
  },
  {
   "cell_type": "markdown",
   "metadata": {
    "toc-hr-collapsed": true
   },
   "source": [
    "### Lap times"
   ]
  },
  {
   "cell_type": "markdown",
   "metadata": {},
   "source": [
    "Let's now consider the table containing all the lap times for each race and driver."
   ]
  },
  {
   "cell_type": "code",
   "execution_count": null,
   "metadata": {
    "tags": []
   },
   "outputs": [],
   "source": [
    "# load the data\n",
    "laptimes = pd.read_csv(\n",
    "    os.path.join(data_folder, 'lap_times.csv'),\n",
    ")\n",
    "\n",
    "laptimes.info()\n",
    "laptimes.head()"
   ]
  },
  {
   "cell_type": "code",
   "execution_count": null,
   "metadata": {
    "tags": []
   },
   "outputs": [],
   "source": [
    "# pandas can handle Timestamp and Timedelta types, so let's use them\n",
    "laptimes['time'] = pd.to_timedelta(laptimes['milliseconds'], unit='ms')\n",
    "# add a column with the driver's code\n",
    "laptimes['driver'] = laptimes['driverId'].replace(drivers['code'])\n",
    "\n",
    "laptimes.info()\n",
    "laptimes.head()"
   ]
  },
  {
   "cell_type": "markdown",
   "metadata": {},
   "source": [
    "Let's select one race"
   ]
  },
  {
   "cell_type": "code",
   "execution_count": null,
   "metadata": {
    "tags": []
   },
   "outputs": [],
   "source": [
    "# select race \n",
    "race_year, race_name = 2021, 'Qatar Grand Prix'\n",
    "\n",
    "# select data referring to the race of interest\n",
    "raceId = races[(races['year'] == race_year) \n",
    "               & (races['name'] == race_name)].index[0]\n",
    "laps = laptimes[(laptimes['raceId'] == raceId)]"
   ]
  },
  {
   "cell_type": "code",
   "execution_count": null,
   "metadata": {
    "tags": []
   },
   "outputs": [],
   "source": [
    "laps.sort_values('milliseconds').head()"
   ]
  },
  {
   "cell_type": "markdown",
   "metadata": {},
   "source": [
    "Now we can plot the distribution of the lap times throughout the race for every driver"
   ]
  },
  {
   "cell_type": "code",
   "execution_count": null,
   "metadata": {
    "tags": []
   },
   "outputs": [],
   "source": [
    "def strfy_ms(ms):\n",
    "    ''' convert milliseconds to a string, e.g., 100_000 -> \"1:40:000\" '''\n",
    "    mins, ms = divmod(ms, 60*1000)\n",
    "    secs, ms = divmod(ms, 1000)\n",
    "    return '{}:{:02d}.{:03d}'.format(int(mins), int(secs), int(ms))\n",
    "\n",
    "fig, ax = plt.subplots(figsize=(12,5))\n",
    "ax.hist(laps['milliseconds'], bins=50)\n",
    "ax.set(title='{} {} - Lap Times distribution'.format(race_year, race_name), \n",
    "       xlabel='lap time', ylabel='frequency',\n",
    "       xticks=ax.get_xticks(), # just a work-around to avoid Warnings\n",
    "       xticklabels=[strfy_ms(ms) for ms in ax.get_xticks()],)\n",
    "ax.grid()"
   ]
  },
  {
   "cell_type": "markdown",
   "metadata": {},
   "source": [
    "Now we can visualize the how the lap times for the top drivers evolve over the race and see if we can infer some valueable information."
   ]
  },
  {
   "cell_type": "code",
   "execution_count": null,
   "metadata": {
    "tags": []
   },
   "outputs": [],
   "source": [
    "ndrivers = 6 # number of top drivers to analyze\n",
    "\n",
    "# select top drivers in the specific race\n",
    "top_drivers = laps[(laps['lap'] == laps['lap'].max()) \n",
    "                   & (laps['position'] <= ndrivers)\n",
    "                  ].sort_values('position')['driver']\n",
    "laps = laps[laps['driver'].isin(top_drivers)]\n",
    "\n",
    "\n",
    "# plot a scatter plot for each top driver\n",
    "fig, ax = plt.subplots(figsize=(12,5))\n",
    "for driver, group in laps.groupby('driver'):\n",
    "    ax.scatter(x=group['lap'], y=group['milliseconds'], \n",
    "                   label=driver, alpha=0.8)\n",
    "\n",
    "# make the plot nicer\n",
    "ax.set(title='{} {} - Lap Times'.format(race_year, race_name), \n",
    "       xlabel='lap', ylabel='lap time',\n",
    "       ylim=(laps['milliseconds'].min()*0.99, \n",
    "             laps['milliseconds'].quantile(0.95)),)\n",
    "ax.set(yticks=ax.get_yticks(), # just a work-around to avoid Warnings\n",
    "       yticklabels=[strfy_ms(ms) for ms in ax.get_yticks()],)\n",
    "ax.legend(ncol=3)\n",
    "ax.grid()\n"
   ]
  },
  {
   "cell_type": "markdown",
   "metadata": {
    "toc-hr-collapsed": true,
    "toc-nb-collapsed": true
   },
   "source": [
    "## Seaborn"
   ]
  },
  {
   "cell_type": "markdown",
   "metadata": {},
   "source": [
    "[**Seaborn**](https://seaborn.pydata.org/) is another data visualization library, it is actually based on Matplotlib. It was built primarily to provide a high-level interface for drawing attractive statistical graphics, such as regression plots, box plots, and so on. Seaborn makes creating plots very efficient. Therefore with Seaborn you can generate plots with code that is 5 times less than with Matplotlib."
   ]
  },
  {
   "cell_type": "code",
   "execution_count": null,
   "metadata": {
    "tags": []
   },
   "outputs": [],
   "source": [
    "import seaborn as sns\n",
    "sns.set() # set parameters for prettier plots"
   ]
  },
  {
   "cell_type": "markdown",
   "metadata": {
    "tags": []
   },
   "source": [
    "### regplot"
   ]
  },
  {
   "cell_type": "markdown",
   "metadata": {},
   "source": [
    "[regplot](https://seaborn.pydata.org/) plots data as a scatter plot but add a straight line representing a **linear regression model** that fits the data."
   ]
  },
  {
   "cell_type": "code",
   "execution_count": null,
   "metadata": {
    "tags": []
   },
   "outputs": [],
   "source": [
    "# create figure with matplotlib.pyplot\n",
    "plt.figure(figsize=(12,5))\n",
    "\n",
    "# plot data with seaborn\n",
    "ax = sns.regplot(data=laps, x='lap', y='milliseconds', marker='x', order=3)\n",
    "ax.set(title='{} {} - Lap Times'.format(race_year, race_name), \n",
    "      xlabel='lap', ylabel='lap time',\n",
    "      ylim=(laps['milliseconds'].min()*0.99, \n",
    "            laps['milliseconds'].quantile(0.95)),)\n",
    "ax.set(yticks=ax.get_yticks(), # just a work-around to avoid Warnings\n",
    "       yticklabels=[strfy_ms(ms) for ms in ax.get_yticks()]);"
   ]
  },
  {
   "cell_type": "markdown",
   "metadata": {},
   "source": [
    "### distplot"
   ]
  },
  {
   "cell_type": "markdown",
   "metadata": {},
   "source": [
    "[**distplot**](https://seaborn.pydata.org/generated/seaborn.distplot.html) flexibly plot a univariate distribution of observations.\n",
    "\n",
    "It combines the matplotlib `hist` function (with automatic calculation of a good default bin size) with a fitting of an univariate kernel density estimate."
   ]
  },
  {
   "cell_type": "code",
   "execution_count": null,
   "metadata": {
    "tags": []
   },
   "outputs": [],
   "source": [
    "ax = sns.histplot(laps['milliseconds'], kde=True)\n",
    "ax.set(title=f'{race_year} {race_name} - Lap Times distribution', \n",
    "       xlabel='lap time', ylabel='count',\n",
    "       xticks=ax.get_xticks(), # just a work-around to avoid Warnings\n",
    "       xticklabels=[strfy_ms(ms)[:-4] for ms in ax.get_xticks()],);"
   ]
  },
  {
   "cell_type": "markdown",
   "metadata": {},
   "source": [
    "### boxplot"
   ]
  },
  {
   "cell_type": "markdown",
   "metadata": {},
   "source": [
    "A boxplot is a standardized way of displaying the distribution of data based on a five number summary: *minimum*, *first quartile* (Q1 or 25th percentile), *median* (Q2 or 50th percentile), *third quartile* (Q3 or 75th percentile), and *maximum*. \n",
    "\n",
    "<img src=\"figures/boxplot.png\" width=400px>\n",
    "\n",
    "It can tell you about your outliers and what their values are. It can also tell you if your data is symmetrical, how tightly your data is grouped, and if and how your data is skewed.\n",
    "\n",
    "This kind of plot is also available in matplotlib with [`boxplot()`](https://matplotlib.org/3.1.3/api/_as_gen/matplotlib.pyplot.boxplot.html), but the seaborn's [`boxplot()`](https://seaborn.pydata.org/generated/seaborn.boxplot.html) is much easier to use."
   ]
  },
  {
   "cell_type": "code",
   "execution_count": null,
   "metadata": {
    "tags": []
   },
   "outputs": [],
   "source": [
    "# add the age column to the drivers dataframe\n",
    "drivers['age'] = (pd.Timestamp.today() - drivers['dob']).dt.days//365\n",
    "\n",
    "# list of nationality sorted by number of drivers in descending order\n",
    "sorted_natl =  drivers.groupby('nationality')['nationality'].count()\\\n",
    "                      .sort_values(ascending=False).index.to_list()\n",
    "\n",
    "# select only the countries that have given birth to most drivers\n",
    "nnatl = 10 # number of nationalities to consider\n",
    "df = drivers[drivers['nationality'].isin(sorted_natl[:nnatl])]\n",
    "df"
   ]
  },
  {
   "cell_type": "code",
   "execution_count": null,
   "metadata": {
    "tags": []
   },
   "outputs": [],
   "source": [
    "plt.figure(figsize=(10, 5))\n",
    "sns.boxplot(data=df, x='nationality', y='age')\n",
    "plt.xticks(rotation=45);"
   ]
  },
  {
   "cell_type": "markdown",
   "metadata": {},
   "source": [
    "### countplot"
   ]
  },
  {
   "cell_type": "markdown",
   "metadata": {},
   "source": [
    "With a Boxplot we get information about distribution in the different categories but we lose the information about quantity. So let's add a barplot.\n",
    "\n",
    "seaborn not only provides the traditional barplot as matplotlib does, but also has the [`countplot()`](https://seaborn.pydata.org/generated/seaborn.countplot.html) method that allows you to give the hole dataframe as input and the method counts the elements in each category for you."
   ]
  },
  {
   "cell_type": "code",
   "execution_count": null,
   "metadata": {
    "tags": []
   },
   "outputs": [],
   "source": [
    "fig, (axbox, axbar) = plt.subplots(2, 1, figsize=(10, 6), sharex=True)\n",
    "sns.boxplot(ax=axbox, data=df, x='nationality', y='age')\n",
    "sns.countplot(ax=axbar, data=df, x='nationality')\n",
    "plt.xticks(rotation=45);"
   ]
  },
  {
   "cell_type": "markdown",
   "metadata": {},
   "source": [
    "### violinplot"
   ]
  },
  {
   "cell_type": "markdown",
   "metadata": {},
   "source": [
    "Violin plots are similar to box plots, except that they also show the probability density of the data at different values, usually smoothed by a kernel density estimator.\n",
    "\n",
    "This plot allows you to get a clearer ideas on the values distribution that is useful especially when the distribution presents more than one mode/population."
   ]
  },
  {
   "cell_type": "code",
   "execution_count": null,
   "metadata": {
    "tags": []
   },
   "outputs": [],
   "source": [
    "# select only the countries that have given birth to most drivers\n",
    "nnatl = 6 # number of nationalities to consider\n",
    "df = drivers[drivers['nationality'].isin(sorted_natl[:nnatl])]\n",
    "\n",
    "fig, ax = plt.subplots(figsize=(10, 4), sharex=True)\n",
    "sns.violinplot(ax=ax, data=df, x='nationality', y='age')\n",
    "plt.xticks(rotation=45);"
   ]
  },
  {
   "cell_type": "markdown",
   "metadata": {},
   "source": [
    "### pairplot"
   ]
  },
  {
   "cell_type": "markdown",
   "metadata": {},
   "source": [
    "[**pairplot**](https://seaborn.pydata.org/generated/seaborn.pairplot.html) displays pairwise relationships in a dataset. \n",
    "\n",
    "By default, this function will create a grid of Axes such that each numeric variable in data will by shared in the y-axis across a single row and in the x-axis across a single column. The diagonal Axes are treated differently, drawing a plot to show the univariate distribution of the data for the variable in that column.\n",
    "\n",
    "This is a high-level interface for [PairGrid](https://seaborn.pydata.org/generated/seaborn.PairGrid.html#seaborn.PairGrid) that is intended to make it easy to draw a few common styles."
   ]
  },
  {
   "cell_type": "code",
   "execution_count": null,
   "metadata": {
    "tags": []
   },
   "outputs": [],
   "source": [
    "# load dataset\n",
    "cars = pd.read_csv(\n",
    "    os.path.join('data', 'car-data.csv'),\n",
    ")\n",
    "cars.info()\n",
    "cars.head()"
   ]
  },
  {
   "cell_type": "code",
   "execution_count": null,
   "metadata": {
    "tags": []
   },
   "outputs": [],
   "source": [
    "# select only few makes and few categories to visualize\n",
    "# mpg: miles per gallon\n",
    "# MSRP: Manufacturer's Suggested Retail Price\n",
    "makes = ['BMW', 'Audi', 'Mercedes-Benz', 'Ferrari', 'Toyota', 'Volkswagen']\n",
    "cats = ['Make', 'Engine HP', 'city mpg', 'MSRP']\n",
    "df = cars[cars['Make'].isin(makes)][cats]\n",
    "df.head()"
   ]
  },
  {
   "cell_type": "code",
   "execution_count": null,
   "metadata": {
    "tags": []
   },
   "outputs": [],
   "source": [
    "# plot the pairplot\n",
    "pg = sns.pairplot(df, vars=['Engine HP', 'city mpg', 'MSRP'], hue='Make')\n",
    "pg.axes[1,1].set(xlim=(0, 50))\n",
    "pg.axes[2,2].set(\n",
    "    xlim=(1000, 1000000), xscale='log',\n",
    "    ylim=(1000, 1000000), yscale='log',\n",
    ");"
   ]
  },
  {
   "cell_type": "markdown",
   "metadata": {
    "toc-hr-collapsed": true,
    "toc-nb-collapsed": true
   },
   "source": [
    "## Geospatial Data with Folium"
   ]
  },
  {
   "cell_type": "markdown",
   "metadata": {},
   "source": [
    "[**folium**](https://python-visualization.github.io/folium/index.html) is a Python package for geospatial data visualization that builds on the data wrangling strengths of the Python ecosystem and the mapping strengths of the [**leaflet.js**](https://leafletjs.com/) library.\n",
    "\n",
    "`folium` makes it easy to visualize data that has been manipulated in Python on an interactive leaflet map. It enables both the binding of data to a map for [**choropleth**](https://en.wikipedia.org/wiki/Choropleth_map) visualizations as well as passing rich vector/raster/HTML visualizations as **markers** on the map.\n",
    "\n",
    "The library has a number of built-in tilesets from [OpenStreetMap](https://www.openstreetmap.org/), [Mapbox](https://www.mapbox.com/), and [Stamen](http://maps.stamen.com/), and supports custom tilesets with Mapbox or Cloudmade API keys. `folium` supports both Image, Video, GeoJSON and TopoJSON overlays."
   ]
  },
  {
   "cell_type": "markdown",
   "metadata": {},
   "source": [
    "To create a base map, simply pass your starting coordinates (latitude and longitude) to the Map Class. We can also decide the starting level of zoom. Default tileset is `OpenStreetMap` but `Stamen Terrain`, `Stamen Toner`, `Mapbox Bright`, and `Mapbox Control Room`, and many others tiles are built in."
   ]
  },
  {
   "cell_type": "code",
   "execution_count": null,
   "metadata": {
    "tags": []
   },
   "outputs": [],
   "source": [
    "import folium"
   ]
  },
  {
   "cell_type": "code",
   "execution_count": null,
   "metadata": {
    "tags": []
   },
   "outputs": [],
   "source": [
    "# create our map object\n",
    "m = folium.Map(\n",
    "    location=[44.4874, 11.3279],\n",
    "    zoom_start=19,\n",
    "    tiles='OpenStreetMap',\n",
    ")\n",
    "\n",
    "# save your map and open it from outside the Jupyter notebook\n",
    "m.save('first_map.html')"
   ]
  },
  {
   "cell_type": "markdown",
   "metadata": {},
   "source": [
    "### Markers"
   ]
  },
  {
   "cell_type": "markdown",
   "metadata": {},
   "source": [
    "It is possible to add markers to the map.\n",
    "\n",
    "There are numerous marker types, starting with a simple Leaflet style location marker with a popup and tooltip HTML."
   ]
  },
  {
   "cell_type": "code",
   "execution_count": null,
   "metadata": {
    "tags": []
   },
   "outputs": [],
   "source": [
    "# let's build a map with a marker for each F1 circuit since 1950\n",
    "\n",
    "# loading data related to F1 circuits\n",
    "circuits = pd.read_csv(\n",
    "    os.path.join(data_folder, 'circuits.csv'), \n",
    "    encoding='latin1',\n",
    "    usecols=['circuitId', 'circuitRef', 'name', 'location', 'country', 'lat', 'lng'],\n",
    "    index_col='circuitId',\n",
    ")\n",
    "\n",
    "# create a generic world map\n",
    "world_map = folium.Map(tiles='Cartodb Positron')\n",
    "\n",
    "# iter over the F1 circuits and add a marker for each one\n",
    "for i, circuit in circuits.iterrows():\n",
    "    folium.Marker(\n",
    "        circuit[['lat', 'lng']].tolist(), # coordinates\n",
    "        tooltip=circuit['name'], # string that pop up when over the marker\n",
    "    ).add_to(world_map)\n",
    "\n",
    "world_map.fit_bounds(world_map.get_bounds())\n",
    "world_map.save('f1_circuits.html')"
   ]
  },
  {
   "cell_type": "code",
   "execution_count": null,
   "metadata": {
    "tags": []
   },
   "outputs": [],
   "source": [
    "# create a generic world map\n",
    "world_map = folium.Map(tiles='OpenStreetMap')\n",
    "\n",
    "recent_circuits = races[races['year'] > 2015]['circuitId'].unique()\n",
    "\n",
    "# iter over the F1 circuits and add a marker for each one\n",
    "for circuitId, circuit in circuits.iterrows():\n",
    "    # choose icon depending on the circuit\n",
    "    if circuitId in recent_circuits:\n",
    "        icon = folium.Icon(icon='ok-circle', color='green')\n",
    "    else:\n",
    "        icon = folium.Icon(icon='remove-circle', color='red')\n",
    "        \n",
    "    # create marker\n",
    "    folium.Marker(\n",
    "        circuit[['lat', 'lng']].tolist(), # coordinates\n",
    "        tooltip=circuit['name'], # string that pop up when over the marker\n",
    "        icon=icon,               # marker's icon\n",
    "    ).add_to(world_map)\n",
    "\n",
    "world_map.fit_bounds(world_map.get_bounds())\n",
    "world_map.save('f1_circuits_recent.html')"
   ]
  },
  {
   "cell_type": "markdown",
   "metadata": {},
   "source": [
    "### Choropleth maps"
   ]
  },
  {
   "cell_type": "markdown",
   "metadata": {},
   "source": [
    "A choropleth map is a thematic map in which areas are shaded or patterned in proportion to the measurement of the statistical variable being displayed on the map.\n",
    "\n",
    "Here we can color the countries depending on how many circuits hosted a F1 Gran Prix.\n",
    "\n",
    "In order to create a choropleth map of a region of interest, folium requires a [GeoJSON](https://en.wikipedia.org/wiki/GeoJSON) file that includes geospatial data of the region. For a choropleth map of the world, we would need a Geo JSON file that lists each country along with any geospatial data to define its borders and boundaries.\n",
    "\n",
    "Here is an example of GeoJSON for Italian borders:\n",
    "```json\n",
    "{\n",
    "    'type': 'Feature',\n",
    "    'properties': {\n",
    "        'name': 'Italy'\n",
    "    },\n",
    "    'geometry': {\n",
    "        'type': 'MultiPolygon',\n",
    "        'coordinates': [\n",
    "            [[[15.520376, 38.231155], ... , [15.520376, 38.231155]]],\n",
    "            [[[ 9.210012, 41.209991], ... , [ 9.210012, 41.209991]]],\n",
    "            [[[12.376485, 46.767559], ... , [12.376485, 46.767559]]]\n",
    "        ]\n",
    "    },\n",
    "    'id': 'ITA'\n",
    "}\n",
    "```\n",
    "\n",
    "And here is a GeoJSON for world countries \n",
    "[world-countries.json](https://github.com/python-visualization/folium/blob/master/examples/data/world-countries.json) provided by folium."
   ]
  },
  {
   "cell_type": "code",
   "execution_count": null,
   "metadata": {
    "tags": []
   },
   "outputs": [],
   "source": [
    "import urllib # library to download data from the internet\n",
    "\n",
    "# link to GeoJSON\n",
    "url = 'https://raw.githubusercontent.com/python-visualization/'\\\n",
    "      'folium/master/examples/data/world-countries.json'\n",
    "# countries = json.loads(urllib.request.urlopen(url).read()) # load json as dict\n",
    "\n",
    "# data to display\n",
    "# change name to countries for uniformity with GeoJSON\n",
    "circuits_ = circuits.replace({\n",
    "    'UK': 'United Kingdom',\n",
    "    'USA': 'United States of America',\n",
    "    'UAE': 'United Arab Emirates',\n",
    "    'Korea': 'South Korea'})\n",
    "data = circuits_.groupby('country')['country'].count().rename('circuits')\n",
    "\n",
    "\n",
    "# create Choropleth map\n",
    "folium.Choropleth(\n",
    "    name='choropleth',           # object name\n",
    "    geo_data=url,                # geo data for world countries\n",
    "    data=data,                   # data to display\n",
    "    key_on='properties.name',    # where labels in data can be found in GeoJSON\n",
    "    fill_color='YlGn',\n",
    "    fill_opacity=0.7,\n",
    "    line_opacity=0.2,\n",
    "    legend_name='number of circuits'\n",
    ").add_to(world_map)\n",
    "\n",
    "world_map.save('f1_circuits_choropleth.html')\n",
    "\n",
    "display(data.sort_values(ascending=False).head(12))"
   ]
  },
  {
   "cell_type": "markdown",
   "metadata": {},
   "source": [
    "---\n",
    "---\n",
    "---"
   ]
  }
 ],
 "metadata": {
  "kernelspec": {
   "display_name": "faim",
   "language": "python",
   "name": "python3"
  },
  "language_info": {
   "codemirror_mode": {
    "name": "ipython",
    "version": 3
   },
   "file_extension": ".py",
   "mimetype": "text/x-python",
   "name": "python",
   "nbconvert_exporter": "python",
   "pygments_lexer": "ipython3",
   "version": "3.13.7"
  },
  "toc-autonumbering": false
 },
 "nbformat": 4,
 "nbformat_minor": 4
}
