{
 "cells": [
  {
   "cell_type": "markdown",
   "metadata": {
    "Collapsed": "false",
    "toc-hr-collapsed": false
   },
   "source": [
    "# Data management with pandas"
   ]
  },
  {
   "cell_type": "markdown",
   "metadata": {
    "Collapsed": "false"
   },
   "source": [
    "Inspired by the getting started section of [pandas.pydata.org](https://pandas.pydata.org/pandas-docs/stable/getting_started/index.html)."
   ]
  },
  {
   "cell_type": "markdown",
   "metadata": {
    "Collapsed": "false"
   },
   "source": [
    "pandas is a Python package providing fast, flexible, and expressive data structures designed to make working with relational data both easy and intuitive. It aims to be the fundamental high-level building block for doing practical, real world data analysis in Python.\n",
    "\n",
    "\n",
    "they can handle the vast majority of typical use cases in finance, statistics, social science, and many areas of engineering. \n",
    "\n",
    "The two primary data structures of pandas are:\n",
    "- **Series**: 1D labeled homogeneously-typed array\n",
    "- **DataFrame**: general 2D labeled, size-mutable tabular structure with potentially heterogeneously-typed column\n",
    "\n",
    "A DataFrame can be viewed as a container for Series, and Series can be viewed as a container for scalars. Pandas allows objects to be inserted and removed from these containers in a dictionary-like fashion."
   ]
  },
  {
   "cell_type": "code",
   "execution_count": null,
   "metadata": {
    "Collapsed": "false"
   },
   "outputs": [],
   "source": [
    "# import `pandas` package that is usually renamed `pd`\n",
    "import pandas as pd\n",
    "\n",
    "# import also numpy that is always useful\n",
    "import numpy as np\n"
   ]
  },
  {
   "cell_type": "markdown",
   "metadata": {
    "Collapsed": "false"
   },
   "source": [
    "## Series"
   ]
  },
  {
   "cell_type": "markdown",
   "metadata": {
    "Collapsed": "false"
   },
   "source": [
    "[Series](https://pandas.pydata.org/pandas-docs/stable/reference/api/pandas.Series.html#pandas.Series) is a one-dimensional labeled array capable of holding any data type (integers, strings, floating point numbers, Python objects, etc.). The axis labels are collectively referred to as the index. "
   ]
  },
  {
   "cell_type": "markdown",
   "metadata": {
    "Collapsed": "false",
    "toc-hr-collapsed": false
   },
   "source": [
    "### Creating a Series"
   ]
  },
  {
   "cell_type": "markdown",
   "metadata": {
    "Collapsed": "false"
   },
   "source": [
    "The basic method to create a Series is to call:\n",
    "```python\n",
    "pd.Series(data, index=index)\n",
    "```\n",
    "where data represent a sequence of object of the same type, and index is the sequence of label associated to the data's elements."
   ]
  },
  {
   "cell_type": "code",
   "execution_count": null,
   "metadata": {
    "Collapsed": "false"
   },
   "outputs": [],
   "source": [
    "# Let's build a Series for the this F1 Constructor Standing\n",
    "\n",
    "# define a dictionary containing the F1 teams as keys and the point achieved\n",
    "# in the F1 season as values\n",
    "data = {\n",
    "    'Alpine': 20,\n",
    "    'Aston Martin': 62,\n",
    "    'Ferrari': 260,\n",
    "    'Haas': 44,\n",
    "    'Kick Sauber': 51,\n",
    "    'McLaren': 584,\n",
    "    'Mercedes': 248,\n",
    "    'Red Bull': 214,\n",
    "    'Racing Bulls': 60,\n",
    "    'Williams': 80,\n",
    "}\n",
    "\n",
    "# construct and print the Series\n",
    "s = pd.Series(list(data.values()), index=list(data.keys()))\n",
    "print(s)"
   ]
  },
  {
   "cell_type": "markdown",
   "metadata": {
    "Collapsed": "false"
   },
   "source": [
    "On the left side are the labels that form the index and on the right side the values. The last row shows the type of data contained in the series that is `int64`.\n",
    "\n",
    "In this case `data` and `index` are two `list`. Anyway, `pandas.Series` accepts all iterables types such as `numpy.array`.\n",
    "\n",
    "In addition, a Series can be initialized with a key-value pair object like a dictionary."
   ]
  },
  {
   "cell_type": "code",
   "execution_count": null,
   "metadata": {
    "Collapsed": "false"
   },
   "outputs": [],
   "source": [
    "# pandas uses the keys for the index and the values for the data\n",
    "s = pd.Series(data)\n",
    "print(s)"
   ]
  },
  {
   "cell_type": "markdown",
   "metadata": {
    "Collapsed": "false"
   },
   "source": [
    "For a Series object you can also specify the `dtype` and give it a `name`."
   ]
  },
  {
   "cell_type": "code",
   "execution_count": null,
   "metadata": {
    "Collapsed": "false"
   },
   "outputs": [],
   "source": [
    "s = pd.Series(data, name='Constructor Standing', dtype=int)\n",
    "print(s)"
   ]
  },
  {
   "cell_type": "markdown",
   "metadata": {
    "Collapsed": "false"
   },
   "source": [
    "### Attributes and Methods"
   ]
  },
  {
   "cell_type": "markdown",
   "metadata": {
    "Collapsed": "false"
   },
   "source": [
    "As we have seen a Series is composed of the values, the labels, a dtype, optionally a name and implicitly it has a length but also a shape. You can access to all these components that are seen as attributes of the class Series."
   ]
  },
  {
   "cell_type": "code",
   "execution_count": null,
   "metadata": {},
   "outputs": [],
   "source": [
    "s.index"
   ]
  },
  {
   "cell_type": "code",
   "execution_count": null,
   "metadata": {},
   "outputs": [],
   "source": [
    "s.values"
   ]
  },
  {
   "cell_type": "code",
   "execution_count": null,
   "metadata": {},
   "outputs": [],
   "source": [
    "s.name"
   ]
  },
  {
   "cell_type": "code",
   "execution_count": null,
   "metadata": {},
   "outputs": [],
   "source": [
    "s.dtype"
   ]
  },
  {
   "cell_type": "code",
   "execution_count": null,
   "metadata": {},
   "outputs": [],
   "source": [
    "s.shape"
   ]
  },
  {
   "cell_type": "code",
   "execution_count": null,
   "metadata": {},
   "outputs": [],
   "source": [
    "len(s)"
   ]
  },
  {
   "cell_type": "markdown",
   "metadata": {
    "Collapsed": "false"
   },
   "source": [
    "Since Series is a class, not only it has attributes (and the one seen above are not the only ones) but also it has methods. Lots of methods.\n",
    "\n",
    "Two of the most commonly used are `sort_index` and `sort_values` that allows you to sort the elements of a Series either by values or by label."
   ]
  },
  {
   "cell_type": "code",
   "execution_count": null,
   "metadata": {
    "Collapsed": "false"
   },
   "outputs": [],
   "source": [
    "s = s.sort_index() # sorting labels in alphabetic order\n",
    "print(s) "
   ]
  },
  {
   "cell_type": "code",
   "execution_count": null,
   "metadata": {
    "Collapsed": "false"
   },
   "outputs": [],
   "source": [
    "s = s.sort_values(ascending=False) # sorting values in descenting order\n",
    "print(s)"
   ]
  },
  {
   "cell_type": "markdown",
   "metadata": {
    "Collapsed": "false"
   },
   "source": [
    "### Getting values from a Series"
   ]
  },
  {
   "cell_type": "markdown",
   "metadata": {
    "Collapsed": "false"
   },
   "source": [
    "A Series has behaviour common to other data structures in Python.\n",
    "\n",
    "For example, similarly to a `numpy.array`, you can:\n",
    "- select the first element"
   ]
  },
  {
   "cell_type": "code",
   "execution_count": null,
   "metadata": {},
   "outputs": [],
   "source": [
    "s.iloc[0]"
   ]
  },
  {
   "cell_type": "markdown",
   "metadata": {},
   "source": [
    "- select the first three elements"
   ]
  },
  {
   "cell_type": "code",
   "execution_count": null,
   "metadata": {},
   "outputs": [],
   "source": [
    "s.iloc[:3]"
   ]
  },
  {
   "cell_type": "markdown",
   "metadata": {},
   "source": [
    "- select only the elements in a specific position"
   ]
  },
  {
   "cell_type": "code",
   "execution_count": null,
   "metadata": {},
   "outputs": [],
   "source": [
    "s.iloc[[1, 5, 2]]"
   ]
  },
  {
   "cell_type": "markdown",
   "metadata": {},
   "source": [
    "- slice with a bool sequence to select the elements greater than 500"
   ]
  },
  {
   "cell_type": "code",
   "execution_count": null,
   "metadata": {},
   "outputs": [],
   "source": [
    "s[s > 200]"
   ]
  },
  {
   "cell_type": "markdown",
   "metadata": {},
   "source": [
    "Besides, similarly to a `dict`, you can:\n",
    "\n",
    "- select elements by key"
   ]
  },
  {
   "cell_type": "code",
   "execution_count": null,
   "metadata": {},
   "outputs": [],
   "source": [
    "s['Ferrari']"
   ]
  },
  {
   "cell_type": "code",
   "execution_count": null,
   "metadata": {},
   "outputs": [],
   "source": [
    "s[['McLaren', 'Ferrari']]"
   ]
  },
  {
   "cell_type": "markdown",
   "metadata": {},
   "source": [
    "- test if a label is one of the keys (index labels)"
   ]
  },
  {
   "cell_type": "code",
   "execution_count": null,
   "metadata": {},
   "outputs": [],
   "source": [
    "'Ferrari' in s"
   ]
  },
  {
   "cell_type": "code",
   "execution_count": null,
   "metadata": {},
   "outputs": [],
   "source": [
    "'Lamborghini' in s"
   ]
  },
  {
   "cell_type": "markdown",
   "metadata": {
    "Collapsed": "false"
   },
   "source": [
    "### Iterating over a Series"
   ]
  },
  {
   "cell_type": "markdown",
   "metadata": {
    "Collapsed": "false"
   },
   "source": [
    "As for any iterable, it is possible to iterate over the Series elements. "
   ]
  },
  {
   "cell_type": "code",
   "execution_count": null,
   "metadata": {
    "Collapsed": "false"
   },
   "outputs": [],
   "source": [
    "for value in s:\n",
    "    print(value)"
   ]
  },
  {
   "cell_type": "markdown",
   "metadata": {
    "Collapsed": "false"
   },
   "source": [
    "But you can iter over a Series in a smarter way: using the `items` method that returns a key-value pair for each iteration (similarly to what the items method does with dictionaries)."
   ]
  },
  {
   "cell_type": "code",
   "execution_count": null,
   "metadata": {
    "Collapsed": "false"
   },
   "outputs": [],
   "source": [
    "for key, value in s.items():\n",
    "    print(key, value)"
   ]
  },
  {
   "cell_type": "markdown",
   "metadata": {
    "Collapsed": "false"
   },
   "source": [
    "But the smartest way to iter over a Series (but the same is valid for DataFrame) is:\n",
    "\n",
    "<font size=\"6\"> **NOT TO ITERATE !!** </font>\n",
    "\n",
    "**There is (almost) always a better way!**\n",
    "\n",
    "Iteration in pandas is an anti-pattern, and is something you should only do when you have exhausted every other option."
   ]
  },
  {
   "cell_type": "markdown",
   "metadata": {
    "Collapsed": "false"
   },
   "source": [
    "### Vectorized operation"
   ]
  },
  {
   "cell_type": "markdown",
   "metadata": {
    "Collapsed": "false"
   },
   "source": [
    "As with NumPy objects iterating over array is usually not necessary, the same is true for Series in pandas. Series can also be passed into most NumPy methods expecting an ndarray."
   ]
  },
  {
   "cell_type": "code",
   "execution_count": null,
   "metadata": {
    "Collapsed": "false"
   },
   "outputs": [],
   "source": [
    "penality = 10\n",
    "s - penality"
   ]
  },
  {
   "cell_type": "code",
   "execution_count": null,
   "metadata": {
    "Collapsed": "false"
   },
   "outputs": [],
   "source": [
    "penality = pd.Series(\n",
    "    data={\n",
    "        'Alpine': 0,\n",
    "        'Aston Martin': 0,\n",
    "        'Ferrari': 100,\n",
    "        'Haas': 0,\n",
    "        'Kick Sauber': 0,\n",
    "        'McLaren': 300,\n",
    "        'Mercedes': 0,\n",
    "        'Red Bull': 0,\n",
    "        'Racing Bulls': 0,\n",
    "        'Williams': 0,\n",
    "    },\n",
    "    name='penality',\n",
    ")\n",
    "\n",
    "# let's apply the penalities and sort to get the new ranking\n",
    "(s - penality).sort_values(ascending=False)"
   ]
  },
  {
   "cell_type": "code",
   "execution_count": null,
   "metadata": {
    "Collapsed": "false"
   },
   "outputs": [],
   "source": [
    "print(s*2)        # multiply each elemnt by 2\n",
    "print(s**2)       # square each element\n",
    "print(np.sqrt(s)) # compute the square root for each element"
   ]
  },
  {
   "cell_type": "markdown",
   "metadata": {
    "Collapsed": "false"
   },
   "source": [
    "## DataFrame"
   ]
  },
  {
   "cell_type": "markdown",
   "metadata": {
    "Collapsed": "false"
   },
   "source": [
    "[DataFrame](https://pandas.pydata.org/pandas-docs/stable/reference/frame.html) is a 2-dimensional labeled data structure with columns of potentially different types. You can think of it like a spreadsheet or SQL table, or a dict of Series objects. It is generally the most commonly used pandas object.\n",
    "\n",
    "Each row and column of a DataFrame can be viewed as a Series. Each column is a Series that share the index with the other columns and the DataFrame. Each row is a Series whose index is the column labels that are shared with the other rows."
   ]
  },
  {
   "cell_type": "markdown",
   "metadata": {
    "Collapsed": "false"
   },
   "source": [
    "### Creating a DataFrame "
   ]
  },
  {
   "cell_type": "markdown",
   "metadata": {
    "Collapsed": "false"
   },
   "source": [
    "The basic method to create a DataFrame is to call:\n",
    "```python\n",
    "pd.DataFrame(data, index=index, columns=columns)\n",
    "```\n",
    "where \n",
    "- **data** a 2-D object such as 2D numpy.ndarray, a list of list, etc., \n",
    "- **index** represents the row labels (the same as Series)\n",
    "- **columns** represents the column labels.\n",
    "\n",
    "If axis labels (i.e., index or columns) are not passed, they will be constructed from the input data based on common sense rules."
   ]
  },
  {
   "cell_type": "code",
   "execution_count": null,
   "metadata": {
    "Collapsed": "false"
   },
   "outputs": [],
   "source": [
    "# let's build a very simple DataFrame\n",
    "data = [[ 1,  2,  3,  4,  5,  6],\n",
    "        [ 7,  8,  9, 10, 11, 12],\n",
    "        [13, 14, 15, 16, 17, 18],\n",
    "        [19, 20, 21, 22, 23, 24]]\n",
    "index = [1, 2, 3, 4]\n",
    "columns = ['a', 'b', 'c', 'd', 'e', 'f']\n",
    "\n",
    "df = pd.DataFrame(data, index=index, columns=columns)\n",
    "df"
   ]
  },
  {
   "cell_type": "markdown",
   "metadata": {
    "Collapsed": "false"
   },
   "source": [
    "Similarly to Series, DataFrame can be initialized with structured objects, such as a dictionary of Series or list"
   ]
  },
  {
   "cell_type": "code",
   "execution_count": null,
   "metadata": {
    "Collapsed": "false"
   },
   "outputs": [],
   "source": [
    "# define a list for each column\n",
    "constructors = [\n",
    "    'Ferrari',\n",
    "    'Williams',\n",
    "    'McLaren',\n",
    "    'Lotus',\n",
    "    'Mercedes',\n",
    "    'Red Bull',\n",
    "]\n",
    "titles = [16, 9, 8, 7, 6, 4]\n",
    "racing = [True, True, True, False, True, True]\n",
    "\n",
    "# define a list for the index\n",
    "index = [1, 2, 3, 4, 5, 6]"
   ]
  },
  {
   "cell_type": "markdown",
   "metadata": {
    "Collapsed": "false"
   },
   "source": [
    "#### from a dict of list"
   ]
  },
  {
   "cell_type": "code",
   "execution_count": null,
   "metadata": {
    "Collapsed": "false"
   },
   "outputs": [],
   "source": [
    "# build a dict where the keys will be the column labels the\n",
    "# the values are the list containing the columns elements\n",
    "data = {\n",
    "    'constructor': constructors,\n",
    "    'titles': titles,\n",
    "    'racing': racing,\n",
    "}\n",
    "\n",
    "df = pd.DataFrame(data, index=index)\n",
    "df"
   ]
  },
  {
   "cell_type": "markdown",
   "metadata": {
    "Collapsed": "false"
   },
   "source": [
    "#### from a dict of Series"
   ]
  },
  {
   "cell_type": "markdown",
   "metadata": {
    "Collapsed": "false"
   },
   "source": [
    "Note that the DataFrame index is the **union** of the indexes of the various Series. If in a Series there are some missing index labels the corresponding cells in the DataFrame are filled with NaN."
   ]
  },
  {
   "cell_type": "code",
   "execution_count": null,
   "metadata": {
    "Collapsed": "false"
   },
   "outputs": [],
   "source": [
    "data = {\n",
    "    'constructor': pd.Series(constructors, index=index),\n",
    "    'titles': pd.Series(titles, index=index),\n",
    "    'racing': pd.Series(racing, index=index),\n",
    "}\n",
    "\n",
    "df = pd.DataFrame(data)\n",
    "df"
   ]
  },
  {
   "cell_type": "markdown",
   "metadata": {
    "Collapsed": "false"
   },
   "source": [
    "#### from a dict of dict"
   ]
  },
  {
   "cell_type": "markdown",
   "metadata": {
    "Collapsed": "false"
   },
   "source": [
    "The nested dictionary is firstly converted to a Series. So the final result is the same of the one above."
   ]
  },
  {
   "cell_type": "code",
   "execution_count": null,
   "metadata": {
    "Collapsed": "false"
   },
   "outputs": [],
   "source": [
    "data = {\n",
    "    'constructor': dict(zip(index, constructors)),\n",
    "    'titles': dict(zip(index, titles)),\n",
    "    'racing': dict(zip(index, racing)),\n",
    "}\n",
    "\n",
    "df = pd.DataFrame(data)\n",
    "df"
   ]
  },
  {
   "cell_type": "markdown",
   "metadata": {
    "Collapsed": "false"
   },
   "source": [
    "#### from a list of dicts"
   ]
  },
  {
   "cell_type": "markdown",
   "metadata": {
    "Collapsed": "false"
   },
   "source": [
    "Each dictionary is interpreted as a DataFrame row where the dict keys are the column labels."
   ]
  },
  {
   "cell_type": "code",
   "execution_count": null,
   "metadata": {
    "Collapsed": "false"
   },
   "outputs": [],
   "source": [
    "data = [\n",
    "    {'constructor':  'Ferrari', 'titles': 16, 'racing':  True,},\n",
    "    {'constructor': 'Williams', 'titles':  9, 'racing':  True,},\n",
    "    {'constructor':  'McLaren', 'titles':  8, 'racing':  True,},\n",
    "    {'constructor':    'Lotus', 'titles':  7, 'racing': False,},\n",
    "    {'constructor': 'Mercedes', 'titles':  6, 'racing':  True,},\n",
    "    {'constructor': 'Red Bull', 'titles':  4, 'racing':  True,},\n",
    "]\n",
    "\n",
    "df = pd.DataFrame(data, index)\n",
    "df"
   ]
  },
  {
   "cell_type": "markdown",
   "metadata": {
    "Collapsed": "false"
   },
   "source": [
    "### Attributes and Methods"
   ]
  },
  {
   "cell_type": "markdown",
   "metadata": {
    "Collapsed": "false"
   },
   "source": [
    "Also DataFrame is a class that has attributes and methods.\n",
    "Here some examples of the main ones"
   ]
  },
  {
   "cell_type": "code",
   "execution_count": null,
   "metadata": {},
   "outputs": [],
   "source": [
    "df.index"
   ]
  },
  {
   "cell_type": "code",
   "execution_count": null,
   "metadata": {},
   "outputs": [],
   "source": [
    "df.values"
   ]
  },
  {
   "cell_type": "code",
   "execution_count": null,
   "metadata": {},
   "outputs": [],
   "source": [
    "df.columns"
   ]
  },
  {
   "cell_type": "code",
   "execution_count": null,
   "metadata": {},
   "outputs": [],
   "source": [
    "df.dtypes"
   ]
  },
  {
   "cell_type": "code",
   "execution_count": null,
   "metadata": {},
   "outputs": [],
   "source": [
    "df.shape"
   ]
  },
  {
   "cell_type": "code",
   "execution_count": null,
   "metadata": {},
   "outputs": [],
   "source": [
    "len(df)"
   ]
  },
  {
   "cell_type": "markdown",
   "metadata": {
    "Collapsed": "false"
   },
   "source": [
    "Some of the most basic and used method are the following:"
   ]
  },
  {
   "cell_type": "markdown",
   "metadata": {
    "Collapsed": "false"
   },
   "source": [
    "- `info` to get information about the dataframe structure and content"
   ]
  },
  {
   "cell_type": "code",
   "execution_count": null,
   "metadata": {
    "Collapsed": "false"
   },
   "outputs": [],
   "source": [
    "df.info()"
   ]
  },
  {
   "cell_type": "markdown",
   "metadata": {
    "Collapsed": "false"
   },
   "source": [
    "- `head` and `tail` to display the first or the last rows of the dataframe"
   ]
  },
  {
   "cell_type": "code",
   "execution_count": null,
   "metadata": {
    "Collapsed": "false"
   },
   "outputs": [],
   "source": [
    "df.head(3) # show the first 3 rows"
   ]
  },
  {
   "cell_type": "code",
   "execution_count": null,
   "metadata": {
    "Collapsed": "false"
   },
   "outputs": [],
   "source": [
    "df.tail() # show the last 5 rows (5 is the default for both head and tail)"
   ]
  },
  {
   "cell_type": "markdown",
   "metadata": {
    "Collapsed": "false"
   },
   "source": [
    "- the transposition `T` to swap rows and columns"
   ]
  },
  {
   "cell_type": "code",
   "execution_count": null,
   "metadata": {
    "Collapsed": "false"
   },
   "outputs": [],
   "source": [
    "df.T"
   ]
  },
  {
   "cell_type": "markdown",
   "metadata": {
    "Collapsed": "false"
   },
   "source": [
    "- `set_index` and `reset_index` to modify the dataframe index"
   ]
  },
  {
   "cell_type": "code",
   "execution_count": null,
   "metadata": {},
   "outputs": [],
   "source": [
    "df"
   ]
  },
  {
   "cell_type": "code",
   "execution_count": null,
   "metadata": {
    "Collapsed": "false"
   },
   "outputs": [],
   "source": [
    "# with reset_index we can clear the actual index and replace it with a integer \n",
    "# sequence that goes from 0 to the dataframe length\n",
    "df.reset_index(drop=True) # drop avoids the old index to become a column"
   ]
  },
  {
   "cell_type": "code",
   "execution_count": null,
   "metadata": {
    "Collapsed": "false"
   },
   "outputs": [],
   "source": [
    "# set_index transforms a column into the index\n",
    "df.set_index('constructor')"
   ]
  },
  {
   "cell_type": "markdown",
   "metadata": {
    "Collapsed": "false"
   },
   "source": [
    "### Indexing and Selection"
   ]
  },
  {
   "cell_type": "markdown",
   "metadata": {
    "Collapsed": "false"
   },
   "source": [
    "You can treat a DataFrame semantically like a dict of like-indexed Series objects. Getting, setting, and deleting columns works with the same syntax as the analogous dict operations. The same can be done with rows but with the help of `loc` and `iloc`.\n",
    "\n",
    "| Operation | Syntax | Result |\n",
    "|---|---|---|\n",
    "| Select a column | `df[col]` | Series |\n",
    "| Select a row by label | `df.loc[label]` | Series |\n",
    "| Select a row by integer location | `df.iloc[loc]` | Series |\n",
    "| Slice rows | `df[loc0:loc1]` | DataFrame|\n",
    "| Select rows by boolean vector | `df[bool_vec]`| DataFrame |\n"
   ]
  },
  {
   "cell_type": "code",
   "execution_count": null,
   "metadata": {
    "Collapsed": "false"
   },
   "outputs": [],
   "source": [
    "# select a column by its name\n",
    "df['constructor']"
   ]
  },
  {
   "cell_type": "code",
   "execution_count": null,
   "metadata": {
    "Collapsed": "false"
   },
   "outputs": [],
   "source": [
    "# you can also select more than one column\n",
    "df[['constructor', 'titles']]"
   ]
  },
  {
   "cell_type": "code",
   "execution_count": null,
   "metadata": {
    "Collapsed": "false"
   },
   "outputs": [],
   "source": [
    "# select a row by label\n",
    "df.loc[3]"
   ]
  },
  {
   "cell_type": "code",
   "execution_count": null,
   "metadata": {
    "Collapsed": "false"
   },
   "outputs": [],
   "source": [
    "# select a row by location\n",
    "df.iloc[2]"
   ]
  },
  {
   "cell_type": "code",
   "execution_count": null,
   "metadata": {
    "Collapsed": "false"
   },
   "outputs": [],
   "source": [
    "# slice rows\n",
    "df[1:4]"
   ]
  },
  {
   "cell_type": "code",
   "execution_count": null,
   "metadata": {
    "Collapsed": "false"
   },
   "outputs": [],
   "source": [
    "# select rows by boolean vector/Series\n",
    "df[df['racing']]"
   ]
  },
  {
   "cell_type": "markdown",
   "metadata": {
    "Collapsed": "false"
   },
   "source": [
    "### Iterating"
   ]
  },
  {
   "cell_type": "markdown",
   "metadata": {
    "Collapsed": "false"
   },
   "source": [
    "As it was already said,\n",
    "\n",
    "<font size=\"6\"> **DO NOT ITERATE !!** </font>\n",
    "\n",
    "**There is (almost) always a better way!**\n",
    "\n",
    "But if you must, use the `iterrows` and `iteritems` methods."
   ]
  },
  {
   "cell_type": "code",
   "execution_count": null,
   "metadata": {
    "Collapsed": "false"
   },
   "outputs": [],
   "source": [
    "# iter over rows\n",
    "for label, row in df.iterrows():\n",
    "    # the `to_dict` method transform a Series into a dict\n",
    "    print('label:', label, ', row:', row.to_dict())"
   ]
  },
  {
   "cell_type": "code",
   "execution_count": null,
   "metadata": {
    "Collapsed": "false"
   },
   "outputs": [],
   "source": [
    "# iter over columns\n",
    "for label, col in df.items():\n",
    "    # the `to_list` method transform a Series into a list\n",
    "    print('label:', label, ', col:', col.to_list())"
   ]
  },
  {
   "cell_type": "markdown",
   "metadata": {
    "Collapsed": "false"
   },
   "source": [
    "A possible better way is to use the `apply` method that (as the name implies) applies a function to each row or each column depending on the `axis` parameter and returns a Series whose values are the results of that function. "
   ]
  },
  {
   "cell_type": "code",
   "execution_count": null,
   "metadata": {
    "Collapsed": "false"
   },
   "outputs": [],
   "source": [
    "# apply the list function along the column axis, i.e.,\n",
    "# each row is transformed into a list\n",
    "df.apply(func=list, axis='columns')"
   ]
  },
  {
   "cell_type": "code",
   "execution_count": null,
   "metadata": {
    "Collapsed": "false"
   },
   "outputs": [],
   "source": [
    "# apply the dict function along the index axis, i.e.,\n",
    "# each column is transformed into a dict\n",
    "df.apply(func=dict, axis='index')"
   ]
  },
  {
   "cell_type": "markdown",
   "metadata": {
    "Collapsed": "false"
   },
   "source": [
    "### Loading data"
   ]
  },
  {
   "cell_type": "markdown",
   "metadata": {
    "Collapsed": "false"
   },
   "source": [
    "Most times DataFrames are not built from scratch but they are created starting from an external dataset that can be stored in different file formats.\n",
    "\n",
    "For each file format supported by pandas (and they are a lot) there is a function that starts read_ followed by the file format. For example for csv files the loading method is `read_csv`. \n",
    "\n",
    "Other common file formats are **csv**, **excel**, **json**, **html**, **hdf**, **parquet**, **feather**, **pickle**, etc. Some of these formats require the installation of other Python packages. For example to read an excel files you need to have xlrs package installed.\n",
    "\n"
   ]
  },
  {
   "cell_type": "code",
   "execution_count": null,
   "metadata": {
    "Collapsed": "false"
   },
   "outputs": [],
   "source": [
    "import os # for functionalities depending on the operating system \n",
    "\n",
    "# define the path of the file containing the dataset\n",
    "data_path = os.path.join('data', 'f1db_csv', 'drivers.csv')\n",
    "\n",
    "# load the dataset (encoding needed for special characters)\n",
    "df = pd.read_csv(data_path, encoding='latin1')\n",
    "\n",
    "# show information\n",
    "print(df.info())\n",
    "\n",
    "# show the first 5 rows\n",
    "df.head()"
   ]
  },
  {
   "cell_type": "markdown",
   "metadata": {
    "Collapsed": "false"
   },
   "source": [
    "The loading methods have several parameters that allow for perform simple operations on the dataset during the loading procedure.\n",
    "\n",
    "For example in `read_csv`:\n",
    "- `sep` defines a separator different from comma ',';\n",
    "- `header` indicates which line use as header or defines a new header;\n",
    "- `index_col` selects which column to use as index;\n",
    "- `dtype` indicates what data type to use for the columns values;\n",
    "- `skiprows` allows you to skip some lines at the beginning of the file;\n",
    "- `usecols` selects a subset of the columns;\n",
    "\n",
    "and many others. Have a look to the method's docstring."
   ]
  },
  {
   "cell_type": "code",
   "execution_count": null,
   "metadata": {
    "Collapsed": "false"
   },
   "outputs": [],
   "source": [
    "df = pd.read_csv(\n",
    "    data_path, \n",
    "    encoding='latin1', \n",
    "    index_col='driverId',\n",
    "    usecols=['driverId', 'code', 'forename', 'surname', 'dob', 'nationality'],\n",
    "    parse_dates=['dob'],\n",
    ")\n",
    "df.info()\n",
    "df.head()"
   ]
  },
  {
   "cell_type": "markdown",
   "metadata": {
    "Collapsed": "false"
   },
   "source": [
    "## Groupby"
   ]
  },
  {
   "cell_type": "code",
   "execution_count": null,
   "metadata": {},
   "outputs": [],
   "source": [
    "s = df.groupby('nationality')\n",
    "s"
   ]
  },
  {
   "cell_type": "code",
   "execution_count": null,
   "metadata": {},
   "outputs": [],
   "source": [
    "# show the first group in groupby\n",
    "# iter turns groupby object into an iterable and next takes the first element\n",
    "next(iter(df.groupby('nationality')))"
   ]
  },
  {
   "cell_type": "markdown",
   "metadata": {
    "Collapsed": "false"
   },
   "source": [
    "The [groupby](https://pandas.pydata.org/pandas-docs/stable/reference/api/pandas.DataFrame.groupby.html) operation is extremely useful for compute operations on group of data that have a common feature."
   ]
  },
  {
   "cell_type": "markdown",
   "metadata": {
    "Collapsed": "false"
   },
   "source": [
    "Let's take as example the dataset loaded above and assume we want to count the driver for each country.\n",
    "\n",
    "We can group the driver by nationality and then count how many elements are in each group. It seems easy, but it is ... much easier."
   ]
  },
  {
   "cell_type": "code",
   "execution_count": null,
   "metadata": {
    "Collapsed": "false"
   },
   "outputs": [],
   "source": [
    "# group by nationality and select the nationality column\n",
    "# count the element in each group\n",
    "# sort in descending order\n",
    "s = df.groupby('nationality')['nationality']\\\n",
    "      .count()\\\n",
    "      .sort_values(ascending=False) \n",
    "s"
   ]
  },
  {
   "cell_type": "markdown",
   "metadata": {
    "Collapsed": "false"
   },
   "source": [
    "Cool! isn't it?\n",
    "\n",
    "but wait. American is the second most common nationality in F1. Personally I do not even a name of an ametrican driver."
   ]
  },
  {
   "cell_type": "code",
   "execution_count": null,
   "metadata": {
    "Collapsed": "false"
   },
   "outputs": [],
   "source": [
    "# select only the driver that have american nationality\n",
    "americans = df[df['nationality'] == 'American'].drop('nationality', axis=1)\n",
    "# then I order from the youngest to the oldest\n",
    "americans = americans.sort_values('dob', ascending=False)\n",
    "\n",
    "americans"
   ]
  },
  {
   "cell_type": "markdown",
   "metadata": {
    "Collapsed": "false"
   },
   "source": [
    "Indeed, except for the first two drivers, the others are quite old.\n",
    "\n",
    "Let's have a look to the distribution of their age."
   ]
  },
  {
   "cell_type": "code",
   "execution_count": null,
   "metadata": {
    "Collapsed": "false"
   },
   "outputs": [],
   "source": [
    "# add a column for the age in the dataframe\n",
    "americans['age'] = (pd.Timestamp.today() - americans['dob']).dt.days//365\n",
    "# plot the histogram of the age\n",
    "americans.hist(column='age', bins=30);\n",
    "# show drivers younger than 60\n",
    "americans[americans['age'] < 60]"
   ]
  },
  {
   "cell_type": "markdown",
   "metadata": {
    "Collapsed": "false"
   },
   "source": [
    "Indeed, most american drivers are older than 60 and the others are not so famous."
   ]
  },
  {
   "cell_type": "markdown",
   "metadata": {
    "Collapsed": "false"
   },
   "source": [
    "---\n",
    "---\n",
    "---"
   ]
  }
 ],
 "metadata": {
  "kernelspec": {
   "display_name": "faim",
   "language": "python",
   "name": "python3"
  },
  "language_info": {
   "codemirror_mode": {
    "name": "ipython",
    "version": 3
   },
   "file_extension": ".py",
   "mimetype": "text/x-python",
   "name": "python",
   "nbconvert_exporter": "python",
   "pygments_lexer": "ipython3",
   "version": "3.13.7"
  },
  "toc-autonumbering": false
 },
 "nbformat": 4,
 "nbformat_minor": 4
}
