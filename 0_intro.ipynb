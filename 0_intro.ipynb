{
 "cells": [
  {
   "cell_type": "markdown",
   "id": "9de18083",
   "metadata": {},
   "source": [
    "# Introduction to Jupyter and Python"
   ]
  },
  {
   "cell_type": "markdown",
   "id": "5dfe6dd1",
   "metadata": {
    "toc-hr-collapsed": true
   },
   "source": [
    "## Jupyter Notebook"
   ]
  },
  {
   "cell_type": "markdown",
   "id": "0a4582cf",
   "metadata": {},
   "source": [
    "*This* is a **Jupyter Notebook**. \n",
    "\n",
    "The Jupyter Notebook is **web application** (you access it as a web page on any browser like Chrome, FireFox, etc.) and is **open-source**, maintained by the people at [Project Jupyter](https://jupyter.org/).\n",
    "\n",
    "A notebook is an **interactive** document that allows you to booth write and execute `python` code (not only python), without the need of using a command line (or shell), a script editor or and IDE. A notebook not only contains code, but text, visualization and equations.\n",
    "\n",
    "The name, Jupyter, comes from the core supported programming languages that it supports: **Ju**lia, **Pyt**hon, and **R**. However, there are currently over 100 other kernels that you can also use.\n",
    "\n",
    "You probably started Jupyter from a command line (or shell or terminal or whatever you call it) and, if you get back there, you will see that it is still running something. That is a Jupyter server (just like the ones you find on the internet). So you access Jupyter by your browser because it connects to that server at the URL: http://localhost:8888/lab (or something similar). The term *localhost* means you hosting the server locally (on your machine)."
   ]
  },
  {
   "cell_type": "markdown",
   "id": "cb969a2f",
   "metadata": {},
   "source": [
    "### Notebook's Cell"
   ]
  },
  {
   "cell_type": "markdown",
   "id": "ceb73bcf",
   "metadata": {},
   "source": [
    "A notebook is made of **cells** that can contain either: "
   ]
  },
  {
   "cell_type": "markdown",
   "id": "e69d4ef0",
   "metadata": {},
   "source": [
    "- **raw text**"
   ]
  },
  {
   "cell_type": "raw",
   "id": "8fc06fe6",
   "metadata": {},
   "source": [
    "this is a raw text cell. As you see it is just text with no formatting rule.\n",
    "Not very useful indeed."
   ]
  },
  {
   "cell_type": "markdown",
   "id": "93f01bd2",
   "metadata": {},
   "source": [
    "- formatted text in **markdown** language."
   ]
  },
  {
   "cell_type": "markdown",
   "id": "620e845d",
   "metadata": {},
   "source": [
    "This is a markdown cell. It does not seem so different from the text you have read since here, does it? That is because it was all written in markdown cells! \n",
    "Just double click on this text and you will see it will turn into a cell with unformatted text!"
   ]
  },
  {
   "cell_type": "markdown",
   "id": "83468563",
   "metadata": {},
   "source": [
    "If you are interested in markdown, check out the web page on [Wikipedia](https://en.wikipedia.org/wiki/Markdown) and on [John Gruber's blog](https://daringfireball.net/projects/markdown/) (the inventor together with Aaron Swartz)"
   ]
  },
  {
   "cell_type": "markdown",
   "id": "58228b20",
   "metadata": {},
   "source": [
    "- **code**"
   ]
  },
  {
   "cell_type": "code",
   "execution_count": null,
   "id": "9621c0c6",
   "metadata": {},
   "outputs": [],
   "source": [
    "# this is a python code cell, and this a comment since it starts with `#`\n",
    "print('hello world!') # here I say hello to the world."
   ]
  },
  {
   "cell_type": "markdown",
   "id": "9d885209",
   "metadata": {},
   "source": [
    "When you **run** a cell you evaluate what is inside. If it was code you *execute* it and if it was markdown you transform it into formatted text (with raw cells nothing happens).\n",
    "\n",
    "**How to run a cell?**\n",
    "- *Boring way*: select the cell and then click the `Run` button on the toolbar in the upper part of the document.\n",
    "- *Smart way*: when the cell is selected, just press `CTRL` + `ENTER` or `SHIFT` + `ENTER`\n",
    "\n",
    "**How to change the type of a cell?**\n",
    "- *Boring way*: on the toolbar you find a drop-down menu where you can select the cell type.\n",
    "- *Smart way*: there are shorcuts. I will let you discover them."
   ]
  },
  {
   "cell_type": "markdown",
   "id": "cf56dc31",
   "metadata": {
    "tags": []
   },
   "source": [
    "## Python"
   ]
  },
  {
   "cell_type": "markdown",
   "id": "9ba4a926",
   "metadata": {},
   "source": [
    "Let's do some Python!"
   ]
  },
  {
   "cell_type": "code",
   "execution_count": null,
   "id": "2b28bbf2",
   "metadata": {},
   "outputs": [],
   "source": [
    "1 + 1"
   ]
  },
  {
   "cell_type": "markdown",
   "id": "99a45fe6",
   "metadata": {
    "heading_collapsed": "false"
   },
   "source": [
    "### Comments"
   ]
  },
  {
   "cell_type": "markdown",
   "id": "53a548f5",
   "metadata": {
    "heading_collapsed": "false"
   },
   "source": [
    "\n",
    "A comment is a line that will not be executed. You can use comments to make your code more readable by others and/or to take notes. To write a comment, insert the `#` symbol and write your text after it.  "
   ]
  },
  {
   "cell_type": "code",
   "execution_count": null,
   "id": "4859a3cb",
   "metadata": {},
   "outputs": [],
   "source": [
    "# This is how a comment looks like in python"
   ]
  },
  {
   "cell_type": "markdown",
   "id": "c0ecfa3e",
   "metadata": {},
   "source": [
    "### Variables"
   ]
  },
  {
   "cell_type": "markdown",
   "id": "7f552e80",
   "metadata": {},
   "source": [
    "Variables are **containers** for storing data values.\n",
    "\n",
    "To create a variable, you just assign it a value and then start using it. Assignment is done with a single equal sign `=`."
   ]
  },
  {
   "cell_type": "code",
   "execution_count": null,
   "id": "a877c3eb",
   "metadata": {},
   "outputs": [],
   "source": [
    "# you are creating a variable named `variable` that contains the value 42\n",
    "variable = 42\n",
    "\n",
    "# here, you are printing the value contained in variable\n",
    "print(variable)"
   ]
  },
  {
   "cell_type": "code",
   "execution_count": null,
   "id": "fca120e9",
   "metadata": {},
   "outputs": [],
   "source": [
    "a, b = 7.5, 10 # you can do multiple assignment\n",
    "print(a, b)    # you can print the content of more than one variable"
   ]
  },
  {
   "cell_type": "markdown",
   "id": "f9d8f732",
   "metadata": {},
   "source": [
    "For variable names NEVER use: numbers at the beginnig, blank spaces, this `-` symbol and special characters like !, @, %, $, &"
   ]
  },
  {
   "cell_type": "markdown",
   "id": "6dc744be",
   "metadata": {
    "tags": [],
    "toc-hr-collapsed": true
   },
   "source": [
    "### Data-Types"
   ]
  },
  {
   "cell_type": "markdown",
   "id": "c11d2c00",
   "metadata": {},
   "source": [
    "A programmer usually have to manage different data types and `python` provides some base types.\n",
    "\n",
    "Here is an incomplete list:\n",
    "- `None`: null object (an object with no value)\n",
    "- **numeric**: simply numbers.\n",
    "    - **boolean** (`bool`): only two possible logic values `True` or `False`. \n",
    "    - **integer** (`int`): all possible integer values (..., `-1`, `0`, `1`, `2`, ...)\n",
    "    - **floating point** (`float`): represents rational numbers (`1.2`, `-7.0`, ...). Since Python (as any other programming language) runs on a finite machine irrational numbers are only approximated as rational.\n",
    "- **data structure**: structures that organize numeric and non-numeric values according to specific needs.\n",
    "    - **string** (`str`): sequence of characters (simply text). Example: `'this is string'`.\n",
    "    - **list** (`list`): ordered sequence of objects (numbers, strings, whatever) indexed by non-negative indexes. Example: `[1, -4.2, 'hello']`\n",
    "    - **tuple** (`tuple`): same as lists but, while lists are *mutable* (insertion, deletion and substitution of elements is allowed) tuples are not. Indeed, tuples are *immutable*. Example: `(1, -4.2, 'hello')`\n",
    "    - **dictionary** (`dict`): collection of objects that are indexed by another collection of nearly arbitrary key values. From another point of view, it is a collection of key-value pairs. Example `{'key': 'value', 'a': 1, 6: -3.2}`\n",
    "    - **set** (`set`): unordered collection of unique items. Example: `{-1, 'string', 7.2}`\n",
    "    \n",
    "    "
   ]
  },
  {
   "cell_type": "markdown",
   "id": "dd398a97",
   "metadata": {},
   "source": [
    "#### Operations with numeric types"
   ]
  },
  {
   "cell_type": "markdown",
   "id": "7e1913a5",
   "metadata": {},
   "source": [
    "Each data type takes its operations. For numeric type they are quite intuitive, for data structure they may not."
   ]
  },
  {
   "cell_type": "markdown",
   "id": "0634f122",
   "metadata": {},
   "source": [
    "With booleans there are logical operations like `not`, `and` and `or`."
   ]
  },
  {
   "cell_type": "code",
   "execution_count": null,
   "id": "4b6ee757",
   "metadata": {},
   "outputs": [],
   "source": [
    "a = True\n",
    "b = False\n",
    "\n",
    "c = a and (not b) or False\n",
    "print(c)"
   ]
  },
  {
   "cell_type": "markdown",
   "id": "ddab40cb",
   "metadata": {},
   "source": [
    "Numeric types takes the traditional operations: sum `+`, subtraction `-`, product `*`, division `/`, and power `**`."
   ]
  },
  {
   "cell_type": "code",
   "execution_count": null,
   "id": "b23e8a8c",
   "metadata": {},
   "outputs": [],
   "source": [
    "a = (18*10 + 6**2 - 9*4)/10\n",
    "a"
   ]
  },
  {
   "cell_type": "markdown",
   "id": "d49d514e",
   "metadata": {},
   "source": [
    "We can also compare numeric types:\n",
    " - grater than (`>`), grater or equal than (`>=`)\n",
    " - less than (`<`), less or equal than (`<=`)\n",
    " - equal to (`==`), not equal to (`!=`)\n",
    "\n",
    "And the result of a comparison is a boolean."
   ]
  },
  {
   "cell_type": "code",
   "execution_count": null,
   "id": "8c1062fc",
   "metadata": {},
   "outputs": [],
   "source": [
    "print(10 > 5)\n",
    "print(10 <= 5)\n",
    "print((10 > 5) and not (10 <= 5))"
   ]
  },
  {
   "cell_type": "markdown",
   "id": "26d7a055",
   "metadata": {
    "toc-hr-collapsed": true
   },
   "source": [
    "### Control Flow"
   ]
  },
  {
   "cell_type": "markdown",
   "id": "b49f91c4",
   "metadata": {},
   "source": [
    "Control flow allows a programmer to tell the machine the order in which the line of code must be executed. In `python` (similarly to most of other programming languages) the flow of the execution is regulated by conditional statements, loops, and function calls."
   ]
  },
  {
   "cell_type": "markdown",
   "id": "fc293562",
   "metadata": {},
   "source": [
    "#### `if` statement"
   ]
  },
  {
   "cell_type": "markdown",
   "id": "16ab4c61",
   "metadata": {},
   "source": [
    "Often, you need to execute some statements only if some condition holds, or choose statements to execute depending on several mutually exclusive conditions.\n",
    "\n",
    "```python\n",
    "if <condition>:\n",
    "    <statement>\n",
    "elif <condition>:\n",
    "    <statement>\n",
    "else:\n",
    "    <statement>\n",
    "```\n",
    "\n",
    "`if`, `elif`, and `else` are the keyword defining the control flow, `<condition>` is anything that can be interpreted as a boolean, and `<statement>` is a block of code.\n",
    "\n",
    "Note that the colon mark `:` and the indentation have the role of defining the scope for each statement."
   ]
  },
  {
   "cell_type": "code",
   "execution_count": null,
   "id": "09f5815d",
   "metadata": {},
   "outputs": [],
   "source": [
    "wavelength_nm = 1000\n",
    "\n",
    "if wavelength_nm < 400:\n",
    "    print('ultraviolet')\n",
    "elif (wavelength_nm >= 400) and (wavelength_nm <= 700):\n",
    "    print('visible light')\n",
    "else: # wavelength_nm > 700\n",
    "    print('Infrared')"
   ]
  },
  {
   "cell_type": "markdown",
   "id": "79cbef61",
   "metadata": {},
   "source": [
    "#### `for` loop"
   ]
  },
  {
   "cell_type": "markdown",
   "id": "b90d2e49",
   "metadata": {},
   "source": [
    "Often, you need to repeat the same operation for a given number of times or itereate over the elements of some sequence.\n",
    "\n",
    "```python\n",
    "for <element> in <sequence>:\n",
    "    <statement>\n",
    "```\n",
    "  \n",
    "`<sequence>` is anything you can iter over such as a tuple, a list, a string, an iterator (like `range()`). `<element>` is one of the elements of the sequence that are returned at each iteration."
   ]
  },
  {
   "cell_type": "code",
   "execution_count": null,
   "id": "fa43d2c9",
   "metadata": {},
   "outputs": [],
   "source": [
    "# range(4) -> [0, 1, 2, 3]\n",
    "for i in range(4): # range creates a sequence of int \n",
    "    print(i)"
   ]
  },
  {
   "cell_type": "code",
   "execution_count": null,
   "id": "843737e1",
   "metadata": {},
   "outputs": [],
   "source": [
    "for letter in 'Python': # a string is a sequence\n",
    "    print(letter)    "
   ]
  },
  {
   "cell_type": "markdown",
   "id": "654aa52e",
   "metadata": {},
   "source": [
    "### Functions"
   ]
  },
  {
   "cell_type": "markdown",
   "id": "a990595d",
   "metadata": {},
   "source": [
    "Sometimes you need to use the same code in different part of your script. Re-writing the same code every time is very inefficient and error-prone (see the difference between [DRY and WET code](https://en.wikipedia.org/wiki/Don%27t_repeat_yourself)). To move around blocks of code avoiding repetition, you can use **functions**. Basically you wrap code inside a nice parcel and call it on need.\n",
    "\n",
    "```python\n",
    "def function_name(<argument1>, <argument2>, ...):\n",
    "    <block of code>\n",
    "    return <output>\n",
    "```\n",
    "    "
   ]
  },
  {
   "cell_type": "code",
   "execution_count": null,
   "id": "44ffcd4d",
   "metadata": {},
   "outputs": [],
   "source": [
    "def mean(number1, number2):\n",
    "    average = (number1 + number2)/2\n",
    "    return average\n",
    "    \n",
    "print(mean(10, 7))\n",
    "print(mean(214, 34590))"
   ]
  },
  {
   "cell_type": "markdown",
   "id": "495a1566",
   "metadata": {
    "heading_collapsed": "false"
   },
   "source": [
    "### Importing modules"
   ]
  },
  {
   "cell_type": "markdown",
   "id": "96ad058c",
   "metadata": {},
   "source": [
    "By default `python` does not come with all useful tools. They are often contained inside packages of code called **modules** that you need to explicitly invoke. You can do it with the `import` statement, followed by the name of the module.  "
   ]
  },
  {
   "cell_type": "code",
   "execution_count": null,
   "id": "2e0ab65a",
   "metadata": {},
   "outputs": [],
   "source": [
    "# By running this cell you import the `math` and `os` modules\n",
    "import math\n",
    "import os"
   ]
  },
  {
   "cell_type": "markdown",
   "id": "8d07bd1c",
   "metadata": {},
   "source": [
    "In Python modules are treated as **objects** that contain other objects. To access their content, you need to recall the name of the module, append a dot `.` and then the name of the content: `module.content`"
   ]
  },
  {
   "cell_type": "code",
   "execution_count": null,
   "id": "fb65cadc",
   "metadata": {},
   "outputs": [],
   "source": [
    "# here you are using the value `pi` contained in the module `math`\n",
    "math.pi"
   ]
  },
  {
   "cell_type": "code",
   "execution_count": null,
   "id": "1936f14f",
   "metadata": {},
   "outputs": [],
   "source": [
    "# here you are using the function `listdir` contained in the module `os`\n",
    "os.listdir() # returns the list of the files name in the current directory"
   ]
  },
  {
   "cell_type": "markdown",
   "id": "611c6710",
   "metadata": {},
   "source": [
    "You can also import a specific object from a module. In this case you do not need to specify the module before using it."
   ]
  },
  {
   "cell_type": "code",
   "execution_count": null,
   "id": "22ec0419",
   "metadata": {},
   "outputs": [],
   "source": [
    "# here you are importing a specific function `randint` from a module `random`\n",
    "from random import randint"
   ]
  },
  {
   "cell_type": "code",
   "execution_count": null,
   "id": "fa2a6388",
   "metadata": {},
   "outputs": [],
   "source": [
    "randint(1, 6) # returns random integer in range [1, 6]"
   ]
  },
  {
   "cell_type": "markdown",
   "id": "2b0230fb",
   "metadata": {
    "toc-hr-collapsed": true
   },
   "source": [
    "### NumPy"
   ]
  },
  {
   "cell_type": "markdown",
   "id": "0ee90058",
   "metadata": {},
   "source": [
    "[`numpy`](https://numpy.org/) is a third-party package (that means it is not developed nor maintained by the [Python Software Foundation](https://www.python.org/psf/)) for **numerical computing** (**Num**erical **Py**thon package) and it almost a standard in the Python community.\n",
    "\n",
    "It is an open-source package belonging to the *SciPy ecosystem* ([SciPy.org](https://www.scipy.org/index.html)) which consists in a collection of open-source software for scientific computing in Python and it is a standard in the Python community.\n",
    "\n",
    "`numpy` provides a multidimensional array object (arrays, matrices, etc.), various derived objects, and an assortment of routines for fast operations on arrays, including mathematical, logical, shape manipulation, sorting, selecting, I/O, discrete Fourier transforms, basic linear algebra, basic statistical operations, random simulation and much more."
   ]
  },
  {
   "cell_type": "code",
   "execution_count": null,
   "id": "c8dcaf31",
   "metadata": {},
   "outputs": [],
   "source": [
    "import numpy as np # standard abbreviation for numpy"
   ]
  },
  {
   "cell_type": "markdown",
   "id": "67a25cfe",
   "metadata": {},
   "source": [
    "#### `numpy` `ndarray`"
   ]
  },
  {
   "cell_type": "markdown",
   "id": "fb31fed1",
   "metadata": {},
   "source": [
    "`ndarray` (n-dimensional array) is the main object in `numpy` and it is a table of elements (usually numbers), all of the same type, indexed by a tuple of non-negative integers.\n",
    "\n",
    "Example:\n",
    "```python\n",
    "np.ndarray([[1., 2., 3.],\n",
    "            [4., 5., 6.]])\n",
    "```\n",
    "This is a 2-dimensional array (a matrix) that have 2 elements on the first dimension (2 rows) and 3 elements on the second dimension (3 columns). In `numpy` each dimension is called *axis*."
   ]
  },
  {
   "cell_type": "code",
   "execution_count": null,
   "id": "b344061b",
   "metadata": {},
   "outputs": [],
   "source": [
    "# generate a random 2D array with 2 rows and 3 columns (i.e., with shape (2,3))\n",
    "a = np.random.rand(2, 3)\n",
    "a"
   ]
  },
  {
   "cell_type": "code",
   "execution_count": null,
   "id": "5bd6f3be",
   "metadata": {},
   "outputs": [],
   "source": [
    "print('number of dimensions:', a.ndim)\n",
    "print('shape:', a.shape)\n",
    "print('type:', a.dtype)"
   ]
  },
  {
   "cell_type": "markdown",
   "id": "82a24612",
   "metadata": {},
   "source": [
    "`ndarray`s can have an aribitrary number of dimensions."
   ]
  },
  {
   "cell_type": "code",
   "execution_count": null,
   "id": "832f52d7",
   "metadata": {},
   "outputs": [],
   "source": [
    "# generate 1D array containing integers from 0 to 23\n",
    "b = np.arange(24)\n",
    "print(b)\n",
    "print(f'ndim: {b.ndim}, shape: {b.shape}, type: {b.dtype}')"
   ]
  },
  {
   "cell_type": "code",
   "execution_count": null,
   "id": "77a2b126",
   "metadata": {},
   "outputs": [],
   "source": [
    "b = b.reshape(2, 4, 3)\n",
    "print(b)\n",
    "print(f'ndim: {b.ndim}, shape: {b.shape}, type: {b.dtype}')"
   ]
  },
  {
   "cell_type": "markdown",
   "id": "b30f5a80",
   "metadata": {
    "heading_collapsed": "true"
   },
   "source": [
    "##### basic operations"
   ]
  },
  {
   "cell_type": "markdown",
   "id": "2e8ac0aa",
   "metadata": {},
   "source": [
    "The same arithmetic operators we have seen for numeric types apply on arrays in a **elementwise**."
   ]
  },
  {
   "cell_type": "code",
   "execution_count": null,
   "id": "8cf174cb",
   "metadata": {},
   "outputs": [],
   "source": [
    "# create a 1D array\n",
    "a = np.arange(12)\n",
    "print('a:', a)\n",
    "\n",
    "# multiply an array by a scalar\n",
    "b = 2*a\n",
    "print('b:', b)\n",
    "\n",
    "# sum of 2 arrays with the same shape\n",
    "c = a + b\n",
    "print('c:', c)"
   ]
  },
  {
   "cell_type": "markdown",
   "id": "860d5c9c",
   "metadata": {},
   "source": [
    "Unlike in many matrix languages, the product operator `*` operates elementwise in `numpy`. The matrix product can be performed using the `@` operator."
   ]
  },
  {
   "cell_type": "code",
   "execution_count": null,
   "id": "e49b7b9b",
   "metadata": {},
   "outputs": [],
   "source": [
    "A = np.arange(6).reshape(2,3)\n",
    "B = 2*np.ones((2,3), dtype=int)\n",
    "A, B"
   ]
  },
  {
   "cell_type": "code",
   "execution_count": null,
   "id": "fedaca5c",
   "metadata": {},
   "outputs": [],
   "source": [
    "# elementwise multiplication\n",
    "C = A * B\n",
    "C"
   ]
  },
  {
   "cell_type": "code",
   "execution_count": null,
   "id": "731f045a",
   "metadata": {},
   "outputs": [],
   "source": [
    "# matrix multiplication (dot product)\n",
    "D = A @ B.T    # B transposed to match dimensions\n",
    "D"
   ]
  },
  {
   "cell_type": "markdown",
   "id": "701254e2",
   "metadata": {
    "heading_collapsed": "true"
   },
   "source": [
    "##### Indexing"
   ]
  },
  {
   "cell_type": "markdown",
   "id": "e21f0f7c",
   "metadata": {},
   "source": [
    "`numpy` arrays support basic indexing and slicing, plus new fancy ways of doing it."
   ]
  },
  {
   "cell_type": "code",
   "execution_count": null,
   "id": "d28e77b1",
   "metadata": {},
   "outputs": [],
   "source": [
    "a = np.arange(10)**3\n",
    "a"
   ]
  },
  {
   "cell_type": "code",
   "execution_count": null,
   "id": "5c397454",
   "metadata": {},
   "outputs": [],
   "source": [
    "a[2]"
   ]
  },
  {
   "cell_type": "code",
   "execution_count": null,
   "id": "0d7e1e74",
   "metadata": {},
   "outputs": [],
   "source": [
    "a[2:5]  # Note: 2 is included and 5 excluded (standard Python indexing)"
   ]
  },
  {
   "cell_type": "code",
   "execution_count": null,
   "id": "cedebfb7",
   "metadata": {},
   "outputs": [],
   "source": [
    "a[:6:2]"
   ]
  },
  {
   "cell_type": "code",
   "execution_count": null,
   "id": "fad8cd74",
   "metadata": {},
   "outputs": [],
   "source": [
    "a[:6:2] = 1000 # equivalent to `a[0:6:2] = 1000`\n",
    "a"
   ]
  },
  {
   "cell_type": "code",
   "execution_count": null,
   "id": "252ab3da",
   "metadata": {},
   "outputs": [],
   "source": [
    "a[::-1]"
   ]
  },
  {
   "cell_type": "code",
   "execution_count": null,
   "id": "79cce23e",
   "metadata": {},
   "outputs": [],
   "source": [
    "for i in a:\n",
    "    print(i)"
   ]
  },
  {
   "cell_type": "code",
   "execution_count": null,
   "id": "9484369a-9d9a-4fa5-827a-58b916896d03",
   "metadata": {},
   "outputs": [],
   "source": [
    "a"
   ]
  },
  {
   "cell_type": "code",
   "execution_count": null,
   "id": "f97572ad-7d69-4378-9a6b-1824015020b1",
   "metadata": {},
   "outputs": [],
   "source": [
    "a[-2]"
   ]
  },
  {
   "cell_type": "markdown",
   "id": "0875267a",
   "metadata": {
    "toc-hr-collapsed": true
   },
   "source": [
    "### Matplotlib"
   ]
  },
  {
   "cell_type": "markdown",
   "id": "e7272845",
   "metadata": {},
   "source": [
    "[`matplotlib`](https://matplotlib.org/) is a comprehensive library for creating static, animated, and interactive **visualizations** in Python.\n",
    "\n",
    "Like `numpy`, it is part of the *SciPy ecosistem* and play the role of the standard basic library for visualization in the Python community."
   ]
  },
  {
   "cell_type": "code",
   "execution_count": null,
   "id": "589cce1b",
   "metadata": {},
   "outputs": [],
   "source": [
    "import matplotlib.pyplot as plt  # standard abbreviation for pyplot"
   ]
  },
  {
   "cell_type": "markdown",
   "id": "e6e4ffdc",
   "metadata": {},
   "source": [
    "Let's create a basic plot"
   ]
  },
  {
   "cell_type": "code",
   "execution_count": null,
   "id": "84c2e6eb",
   "metadata": {},
   "outputs": [],
   "source": [
    "t = np.arange(100)     # 1D array for time (x-axis in the plot)\n",
    "x = np.sin(np.pi*t/10) # 1D array for amplitude (y-axis in the plot)\n",
    "\n",
    "plt.plot(t, x, '-o')"
   ]
  },
  {
   "cell_type": "markdown",
   "id": "9d9dd806",
   "metadata": {},
   "source": [
    "A plot is made of two main elements:\n",
    "- figure: think it as the frame of the image that is displayed\n",
    "- axis: think as the object that is displayed and we can have more than one axis in a figure\n",
    "\n",
    "`pyplot` provides the `subplots` method that allow to have control on those two objects."
   ]
  },
  {
   "cell_type": "code",
   "execution_count": null,
   "id": "3eb12749",
   "metadata": {},
   "outputs": [],
   "source": [
    "fig, ax = plt.subplots()\n",
    "\n",
    "ax.plot(t, x) # plotting directly from the axis\n",
    "# adding title and labels on axes\n",
    "ax.set(xlabel='time [s]', ylabel='amplitude', title='first plot')\n",
    "ax.grid(True) # adding grid to the background\n",
    "\n",
    "fig.savefig('first_plot')"
   ]
  },
  {
   "cell_type": "code",
   "execution_count": null,
   "id": "fc78ee9f",
   "metadata": {},
   "outputs": [],
   "source": [
    "t = np.arange(0, 10, 0.1)\n",
    "x = np.sqrt(t) * np.sin(np.pi*t)\n",
    "y = np.exp(-t**2/10) * np.cos(2*np.pi*t)\n",
    "\n",
    "fig, ax = plt.subplots()\n",
    "ax.plot(t, x, label='x') # first line plot\n",
    "ax.plot(t, y, label='y') # second line plot\n",
    "ax.legend(loc='upper left') # adding legend to the plot\n",
    "ax.set(xlabel='time [s]', ylabel='amplitude', title='first plot')\n",
    "ax.grid(True)"
   ]
  },
  {
   "cell_type": "markdown",
   "id": "8b409b69",
   "metadata": {},
   "source": [
    "#### images"
   ]
  },
  {
   "cell_type": "code",
   "execution_count": null,
   "id": "2dd14228",
   "metadata": {},
   "outputs": [],
   "source": [
    "from matplotlib.image import imread"
   ]
  },
  {
   "cell_type": "code",
   "execution_count": null,
   "id": "fa2a6352",
   "metadata": {},
   "outputs": [],
   "source": [
    "image = imread('figures/matplotlib.png')\n",
    "image.shape"
   ]
  },
  {
   "cell_type": "code",
   "execution_count": null,
   "id": "cb667d17",
   "metadata": {},
   "outputs": [],
   "source": [
    "image[:,:,0]"
   ]
  },
  {
   "cell_type": "code",
   "execution_count": null,
   "id": "4abdd7e7",
   "metadata": {},
   "outputs": [],
   "source": [
    "fig, ax = plt.subplots(figsize=(4, 4))\n",
    "ax.imshow(image)\n",
    "ax.set(xticks=[], yticks=[]);"
   ]
  },
  {
   "cell_type": "code",
   "execution_count": null,
   "id": "100f6733",
   "metadata": {},
   "outputs": [],
   "source": [
    "fig, ax = plt.subplots(2, 2, figsize=(8, 6))\n",
    "\n",
    "ax[0,0].imshow(image[...,0], cmap='Reds')\n",
    "ax[0,0].set(title='Red', xticks=[], yticks=[])\n",
    "ax[0,1].imshow(image[...,1], cmap='Greens')\n",
    "ax[0,1].set(title='Green', xticks=[], yticks=[])\n",
    "ax[1,0].imshow(image[...,2], cmap='Blues')\n",
    "ax[1,0].set(title='Blue', xticks=[], yticks=[])\n",
    "ax[1,1].imshow(image[...,3], cmap='Greys')\n",
    "ax[1,1].set(title='Alpha (Opacity)',xticks=[], yticks=[])\n",
    "\n",
    "fig.tight_layout()"
   ]
  },
  {
   "cell_type": "code",
   "execution_count": null,
   "id": "37497269-3336-4417-9a6b-114638d616b3",
   "metadata": {},
   "outputs": [],
   "source": []
  }
 ],
 "metadata": {
  "kernelspec": {
   "display_name": "faim",
   "language": "python",
   "name": "python3"
  },
  "language_info": {
   "codemirror_mode": {
    "name": "ipython",
    "version": 3
   },
   "file_extension": ".py",
   "mimetype": "text/x-python",
   "name": "python",
   "nbconvert_exporter": "python",
   "pygments_lexer": "ipython3",
   "version": "3.13.7"
  }
 },
 "nbformat": 4,
 "nbformat_minor": 5
}
